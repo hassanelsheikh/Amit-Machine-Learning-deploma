{
 "cells": [
  {
   "cell_type": "code",
   "execution_count": 3,
   "id": "64ee2075",
   "metadata": {},
   "outputs": [],
   "source": [
    "import calc\n",
    "from calc import add\n",
    "from calc import sub\n",
    "from calc import div\n",
    "from calc import mult"
   ]
  },
  {
   "cell_type": "code",
   "execution_count": 5,
   "id": "349a2fb5",
   "metadata": {},
   "outputs": [
    {
     "name": "stdout",
     "output_type": "stream",
     "text": [
      "Enter operator - add-sub-mult-div : div\n",
      "enter first no: 4\n",
      "enter second no: 3\n",
      "1.3333333333333333\n",
      "want another operation?\n",
      "enter y/stop :stop\n"
     ]
    }
   ],
   "source": [
    "\n",
    "op='y'\n",
    "while op=='y':\n",
    "    operator = input('Enter operator - add-sub-mult-div : ')\n",
    "    x=int(input('enter first no: '))\n",
    "    y=int(input('enter second no: '))\n",
    "\n",
    "    if operator =='add' or operator =='ADD':\n",
    "        print(add(x,y))\n",
    "    \n",
    "        \n",
    "    elif operator=='sub' or operator=='SUB':\n",
    "        print(sub(x,y))\n",
    "    \n",
    "               \n",
    "    elif operator=='mult' or operator=='MULT':\n",
    "        print(mult(x,y))\n",
    "    \n",
    "    elif operator=='div' or operator=='DIV':\n",
    "        print(div(x,y))\n",
    "\n",
    "    print('want another operation?')\n",
    "    op=input('enter y/stop :')\n",
    "    \n"
   ]
  }
 ],
 "metadata": {
  "kernelspec": {
   "display_name": "Python 3 (ipykernel)",
   "language": "python",
   "name": "python3"
  },
  "language_info": {
   "codemirror_mode": {
    "name": "ipython",
    "version": 3
   },
   "file_extension": ".py",
   "mimetype": "text/x-python",
   "name": "python",
   "nbconvert_exporter": "python",
   "pygments_lexer": "ipython3",
   "version": "3.9.12"
  }
 },
 "nbformat": 4,
 "nbformat_minor": 5
}
