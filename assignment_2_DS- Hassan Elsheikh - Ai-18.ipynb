{
  "cells": [
    {
      "cell_type": "markdown",
      "metadata": {
        "id": "TMH1o_aRhzx5"
      },
      "source": [
        "## Write a Numpy program to compute the multiplication of two given matrixes"
      ]
    },
    {
      "cell_type": "code",
      "execution_count": 9,
      "metadata": {
        "id": "LOnyoE2Ohzx6"
      },
      "outputs": [],
      "source": [
        "import numpy as np\n",
        "\n",
        "\n",
        "\n",
        "\n",
        "\n",
        "def mult(m1,m2):  \n",
        "  c = m1 * m2 # element wise mult\n",
        "  return c"
      ]
    },
    {
      "cell_type": "code",
      "execution_count": 10,
      "metadata": {
        "colab": {
          "base_uri": "https://localhost:8080/"
        },
        "id": "TpBZxcmVhzx7",
        "outputId": "313751ce-5e31-418e-d46d-2fa6e0acf2f8"
      },
      "outputs": [
        {
          "output_type": "execute_result",
          "data": {
            "text/plain": [
              "array([[0.12513428, 0.19465331, 0.05409362],\n",
              "       [0.0646493 , 0.03930762, 0.00143807],\n",
              "       [0.07711709, 0.04013717, 0.16136607]])"
            ]
          },
          "metadata": {},
          "execution_count": 10
        }
      ],
      "source": [
        "m1=np.random.rand(9)\n",
        "m2=np.random.rand(9)\n",
        "m1 = m1.reshape(3,3)\n",
        "m2 = m2.reshape(3,3)\n",
        "\n",
        "mult(m1,m2)\n",
        "\n",
        "\n",
        "\n"
      ]
    },
    {
      "cell_type": "markdown",
      "metadata": {
        "id": "hMvD_mSIhzx7"
      },
      "source": [
        "## Write a NumPy program to compute the determinant of a given square array"
      ]
    },
    {
      "cell_type": "code",
      "execution_count": 13,
      "metadata": {
        "id": "oMEe4v5bhzx7"
      },
      "outputs": [],
      "source": [
        "def determinant(m):\n",
        "  assert m.shape[0] == m.shape[1] , 'Not square mat'\n",
        "  d=np.linalg.det(m)\n",
        "  return d\n"
      ]
    },
    {
      "cell_type": "code",
      "execution_count": 16,
      "metadata": {
        "colab": {
          "base_uri": "https://localhost:8080/"
        },
        "id": "QZq1F2u9hzx8",
        "outputId": "27d4b678-8e8b-486e-81e4-b978e9ca675b"
      },
      "outputs": [
        {
          "output_type": "execute_result",
          "data": {
            "text/plain": [
              "-2.0000000000000004"
            ]
          },
          "metadata": {},
          "execution_count": 16
        }
      ],
      "source": [
        "m=np.array([[1,2],[3,4]])\n",
        "determinant(m)"
      ]
    },
    {
      "cell_type": "markdown",
      "metadata": {
        "id": "tcqIsSYNhzx8"
      },
      "source": [
        "## Write a NumPy program to compute the cross product of two given vectors"
      ]
    },
    {
      "cell_type": "code",
      "execution_count": 22,
      "metadata": {
        "id": "Ocw6G1eShzx8"
      },
      "outputs": [],
      "source": [
        "def cross_prod(m1,m2):\n",
        "  c = np.cross(m1,m2)\n",
        "  return c\n"
      ]
    },
    {
      "cell_type": "code",
      "execution_count": 20,
      "metadata": {
        "colab": {
          "base_uri": "https://localhost:8080/"
        },
        "id": "4DXQUVewhzx9",
        "outputId": "07d11b56-e508-46b4-9954-8ec2a0ee5834"
      },
      "outputs": [
        {
          "output_type": "execute_result",
          "data": {
            "text/plain": [
              "array([ -2, -28])"
            ]
          },
          "metadata": {},
          "execution_count": 20
        }
      ],
      "source": [
        "m1=np.array([[0,2],[4,5]])\n",
        "m2=np.array([[1,3],[8,3]])\n",
        "cross_prod(m1,m2)"
      ]
    },
    {
      "cell_type": "markdown",
      "metadata": {
        "id": "JOvfTLGfhzx9"
      },
      "source": [
        "## Write a NumPy program to compute the condition number of a given matrix"
      ]
    },
    {
      "cell_type": "code",
      "execution_count": 25,
      "metadata": {
        "id": "jQBMWCp2hzx9"
      },
      "outputs": [],
      "source": [
        "\n",
        "def func(arr):\n",
        "  return np.linalg.cond(arr)"
      ]
    },
    {
      "cell_type": "code",
      "execution_count": 26,
      "metadata": {
        "colab": {
          "base_uri": "https://localhost:8080/"
        },
        "id": "BNRcz_gLhzx-",
        "outputId": "878c28fc-5c94-40a6-c921-2bcdd0ad6542"
      },
      "outputs": [
        {
          "output_type": "execute_result",
          "data": {
            "text/plain": [
              "3.7270027264915293"
            ]
          },
          "metadata": {},
          "execution_count": 26
        }
      ],
      "source": [
        "arr=np.array([[1,2,3],[0,9,2]])\n",
        "func(arr)"
      ]
    },
    {
      "cell_type": "markdown",
      "metadata": {
        "id": "7hzkFfZbhzx-"
      },
      "source": [
        "## Write a NumPy program to compute the inverse of a given matrix"
      ]
    },
    {
      "cell_type": "code",
      "execution_count": 36,
      "metadata": {
        "id": "9h1pQFwghzx-"
      },
      "outputs": [],
      "source": [
        "\n",
        "def inverse(m):\n",
        "  i = np.linalg.inv(m)\n",
        "  return i"
      ]
    },
    {
      "cell_type": "code",
      "execution_count": 41,
      "metadata": {
        "colab": {
          "base_uri": "https://localhost:8080/"
        },
        "id": "vht9bSFNhzx-",
        "outputId": "008fbd94-5140-4eae-d5de-cf8e5e5dcee3"
      },
      "outputs": [
        {
          "output_type": "execute_result",
          "data": {
            "text/plain": [
              "array([[-2. ,  1. ],\n",
              "       [ 1.5, -0.5]])"
            ]
          },
          "metadata": {},
          "execution_count": 41
        }
      ],
      "source": [
        "mat=np.array([[1,2]\n",
        "              ,[3,4]])\n",
        "\n",
        "m_inv=inverse(mat)\n",
        "m_inv\n"
      ]
    },
    {
      "cell_type": "code",
      "execution_count": 42,
      "metadata": {
        "colab": {
          "base_uri": "https://localhost:8080/"
        },
        "id": "1ThSOVajhzx-",
        "outputId": "70b327e9-1f95-4569-d73f-ac7e2febac40"
      },
      "outputs": [
        {
          "output_type": "execute_result",
          "data": {
            "text/plain": [
              "array([[1.0000000e+00, 0.0000000e+00],\n",
              "       [8.8817842e-16, 1.0000000e+00]])"
            ]
          },
          "metadata": {},
          "execution_count": 42
        }
      ],
      "source": [
        "mat.dot(m_inv) # = I"
      ]
    },
    {
      "cell_type": "code",
      "source": [
        ""
      ],
      "metadata": {
        "id": "PrDVeWBbn6To"
      },
      "execution_count": null,
      "outputs": []
    }
  ],
  "metadata": {
    "kernelspec": {
      "display_name": "Python 3",
      "language": "python",
      "name": "python3"
    },
    "language_info": {
      "codemirror_mode": {
        "name": "ipython",
        "version": 3
      },
      "file_extension": ".py",
      "mimetype": "text/x-python",
      "name": "python",
      "nbconvert_exporter": "python",
      "pygments_lexer": "ipython3",
      "version": "3.7.3"
    },
    "colab": {
      "name": "assignment 2 DS.ipynb",
      "provenance": [],
      "collapsed_sections": []
    }
  },
  "nbformat": 4,
  "nbformat_minor": 0
}