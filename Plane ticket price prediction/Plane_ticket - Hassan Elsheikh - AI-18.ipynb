{
  "cells": [
    {
      "cell_type": "code",
      "execution_count": 4,
      "metadata": {
        "id": "FdvRHC0yHBm8"
      },
      "outputs": [],
      "source": [
        "import pandas as pd\n",
        "import numpy as np\n",
        "import matplotlib.pyplot as plt\n",
        "import seaborn as sns\n",
        "\n"
      ]
    },
    {
      "cell_type": "code",
      "execution_count": 5,
      "metadata": {
        "colab": {
          "base_uri": "https://localhost:8080/",
          "height": 206
        },
        "id": "EpxtQEMaHyHR",
        "outputId": "8b393c9e-d105-4ba8-d53f-1e3fc2bd917a"
      },
      "outputs": [
        {
          "output_type": "execute_result",
          "data": {
            "text/plain": [
              "       Airline Date_of_Journey    Source Destination                  Route  \\\n",
              "0       IndiGo      24/03/2019  Banglore   New Delhi              BLR ? DEL   \n",
              "1    Air India       1/05/2019   Kolkata    Banglore  CCU ? IXR ? BBI ? BLR   \n",
              "2  Jet Airways       9/06/2019     Delhi      Cochin  DEL ? LKO ? BOM ? COK   \n",
              "3       IndiGo      12/05/2019   Kolkata    Banglore        CCU ? NAG ? BLR   \n",
              "4       IndiGo      01/03/2019  Banglore   New Delhi        BLR ? NAG ? DEL   \n",
              "\n",
              "  Dep_Time  Arrival_Time Duration Total_Stops Additional_Info  Price  \n",
              "0    22:20  01:10 22 Mar   2h 50m    non-stop         No info   3897  \n",
              "1    05:50         13:15   7h 25m     2 stops         No info   7662  \n",
              "2    09:25  04:25 10 Jun      19h     2 stops         No info  13882  \n",
              "3    18:05         23:30   5h 25m      1 stop         No info   6218  \n",
              "4    16:50         21:35   4h 45m      1 stop         No info  13302  "
            ],
            "text/html": [
              "\n",
              "  <div id=\"df-f21a8ae7-9e07-4180-951a-7d123034945c\">\n",
              "    <div class=\"colab-df-container\">\n",
              "      <div>\n",
              "<style scoped>\n",
              "    .dataframe tbody tr th:only-of-type {\n",
              "        vertical-align: middle;\n",
              "    }\n",
              "\n",
              "    .dataframe tbody tr th {\n",
              "        vertical-align: top;\n",
              "    }\n",
              "\n",
              "    .dataframe thead th {\n",
              "        text-align: right;\n",
              "    }\n",
              "</style>\n",
              "<table border=\"1\" class=\"dataframe\">\n",
              "  <thead>\n",
              "    <tr style=\"text-align: right;\">\n",
              "      <th></th>\n",
              "      <th>Airline</th>\n",
              "      <th>Date_of_Journey</th>\n",
              "      <th>Source</th>\n",
              "      <th>Destination</th>\n",
              "      <th>Route</th>\n",
              "      <th>Dep_Time</th>\n",
              "      <th>Arrival_Time</th>\n",
              "      <th>Duration</th>\n",
              "      <th>Total_Stops</th>\n",
              "      <th>Additional_Info</th>\n",
              "      <th>Price</th>\n",
              "    </tr>\n",
              "  </thead>\n",
              "  <tbody>\n",
              "    <tr>\n",
              "      <th>0</th>\n",
              "      <td>IndiGo</td>\n",
              "      <td>24/03/2019</td>\n",
              "      <td>Banglore</td>\n",
              "      <td>New Delhi</td>\n",
              "      <td>BLR ? DEL</td>\n",
              "      <td>22:20</td>\n",
              "      <td>01:10 22 Mar</td>\n",
              "      <td>2h 50m</td>\n",
              "      <td>non-stop</td>\n",
              "      <td>No info</td>\n",
              "      <td>3897</td>\n",
              "    </tr>\n",
              "    <tr>\n",
              "      <th>1</th>\n",
              "      <td>Air India</td>\n",
              "      <td>1/05/2019</td>\n",
              "      <td>Kolkata</td>\n",
              "      <td>Banglore</td>\n",
              "      <td>CCU ? IXR ? BBI ? BLR</td>\n",
              "      <td>05:50</td>\n",
              "      <td>13:15</td>\n",
              "      <td>7h 25m</td>\n",
              "      <td>2 stops</td>\n",
              "      <td>No info</td>\n",
              "      <td>7662</td>\n",
              "    </tr>\n",
              "    <tr>\n",
              "      <th>2</th>\n",
              "      <td>Jet Airways</td>\n",
              "      <td>9/06/2019</td>\n",
              "      <td>Delhi</td>\n",
              "      <td>Cochin</td>\n",
              "      <td>DEL ? LKO ? BOM ? COK</td>\n",
              "      <td>09:25</td>\n",
              "      <td>04:25 10 Jun</td>\n",
              "      <td>19h</td>\n",
              "      <td>2 stops</td>\n",
              "      <td>No info</td>\n",
              "      <td>13882</td>\n",
              "    </tr>\n",
              "    <tr>\n",
              "      <th>3</th>\n",
              "      <td>IndiGo</td>\n",
              "      <td>12/05/2019</td>\n",
              "      <td>Kolkata</td>\n",
              "      <td>Banglore</td>\n",
              "      <td>CCU ? NAG ? BLR</td>\n",
              "      <td>18:05</td>\n",
              "      <td>23:30</td>\n",
              "      <td>5h 25m</td>\n",
              "      <td>1 stop</td>\n",
              "      <td>No info</td>\n",
              "      <td>6218</td>\n",
              "    </tr>\n",
              "    <tr>\n",
              "      <th>4</th>\n",
              "      <td>IndiGo</td>\n",
              "      <td>01/03/2019</td>\n",
              "      <td>Banglore</td>\n",
              "      <td>New Delhi</td>\n",
              "      <td>BLR ? NAG ? DEL</td>\n",
              "      <td>16:50</td>\n",
              "      <td>21:35</td>\n",
              "      <td>4h 45m</td>\n",
              "      <td>1 stop</td>\n",
              "      <td>No info</td>\n",
              "      <td>13302</td>\n",
              "    </tr>\n",
              "  </tbody>\n",
              "</table>\n",
              "</div>\n",
              "      <button class=\"colab-df-convert\" onclick=\"convertToInteractive('df-f21a8ae7-9e07-4180-951a-7d123034945c')\"\n",
              "              title=\"Convert this dataframe to an interactive table.\"\n",
              "              style=\"display:none;\">\n",
              "        \n",
              "  <svg xmlns=\"http://www.w3.org/2000/svg\" height=\"24px\"viewBox=\"0 0 24 24\"\n",
              "       width=\"24px\">\n",
              "    <path d=\"M0 0h24v24H0V0z\" fill=\"none\"/>\n",
              "    <path d=\"M18.56 5.44l.94 2.06.94-2.06 2.06-.94-2.06-.94-.94-2.06-.94 2.06-2.06.94zm-11 1L8.5 8.5l.94-2.06 2.06-.94-2.06-.94L8.5 2.5l-.94 2.06-2.06.94zm10 10l.94 2.06.94-2.06 2.06-.94-2.06-.94-.94-2.06-.94 2.06-2.06.94z\"/><path d=\"M17.41 7.96l-1.37-1.37c-.4-.4-.92-.59-1.43-.59-.52 0-1.04.2-1.43.59L10.3 9.45l-7.72 7.72c-.78.78-.78 2.05 0 2.83L4 21.41c.39.39.9.59 1.41.59.51 0 1.02-.2 1.41-.59l7.78-7.78 2.81-2.81c.8-.78.8-2.07 0-2.86zM5.41 20L4 18.59l7.72-7.72 1.47 1.35L5.41 20z\"/>\n",
              "  </svg>\n",
              "      </button>\n",
              "      \n",
              "  <style>\n",
              "    .colab-df-container {\n",
              "      display:flex;\n",
              "      flex-wrap:wrap;\n",
              "      gap: 12px;\n",
              "    }\n",
              "\n",
              "    .colab-df-convert {\n",
              "      background-color: #E8F0FE;\n",
              "      border: none;\n",
              "      border-radius: 50%;\n",
              "      cursor: pointer;\n",
              "      display: none;\n",
              "      fill: #1967D2;\n",
              "      height: 32px;\n",
              "      padding: 0 0 0 0;\n",
              "      width: 32px;\n",
              "    }\n",
              "\n",
              "    .colab-df-convert:hover {\n",
              "      background-color: #E2EBFA;\n",
              "      box-shadow: 0px 1px 2px rgba(60, 64, 67, 0.3), 0px 1px 3px 1px rgba(60, 64, 67, 0.15);\n",
              "      fill: #174EA6;\n",
              "    }\n",
              "\n",
              "    [theme=dark] .colab-df-convert {\n",
              "      background-color: #3B4455;\n",
              "      fill: #D2E3FC;\n",
              "    }\n",
              "\n",
              "    [theme=dark] .colab-df-convert:hover {\n",
              "      background-color: #434B5C;\n",
              "      box-shadow: 0px 1px 3px 1px rgba(0, 0, 0, 0.15);\n",
              "      filter: drop-shadow(0px 1px 2px rgba(0, 0, 0, 0.3));\n",
              "      fill: #FFFFFF;\n",
              "    }\n",
              "  </style>\n",
              "\n",
              "      <script>\n",
              "        const buttonEl =\n",
              "          document.querySelector('#df-f21a8ae7-9e07-4180-951a-7d123034945c button.colab-df-convert');\n",
              "        buttonEl.style.display =\n",
              "          google.colab.kernel.accessAllowed ? 'block' : 'none';\n",
              "\n",
              "        async function convertToInteractive(key) {\n",
              "          const element = document.querySelector('#df-f21a8ae7-9e07-4180-951a-7d123034945c');\n",
              "          const dataTable =\n",
              "            await google.colab.kernel.invokeFunction('convertToInteractive',\n",
              "                                                     [key], {});\n",
              "          if (!dataTable) return;\n",
              "\n",
              "          const docLinkHtml = 'Like what you see? Visit the ' +\n",
              "            '<a target=\"_blank\" href=https://colab.research.google.com/notebooks/data_table.ipynb>data table notebook</a>'\n",
              "            + ' to learn more about interactive tables.';\n",
              "          element.innerHTML = '';\n",
              "          dataTable['output_type'] = 'display_data';\n",
              "          await google.colab.output.renderOutput(dataTable, element);\n",
              "          const docLink = document.createElement('div');\n",
              "          docLink.innerHTML = docLinkHtml;\n",
              "          element.appendChild(docLink);\n",
              "        }\n",
              "      </script>\n",
              "    </div>\n",
              "  </div>\n",
              "  "
            ]
          },
          "metadata": {},
          "execution_count": 5
        }
      ],
      "source": [
        "df = pd.read_csv('Predict Price of Airline Tickets.csv')\n",
        "df.head()"
      ]
    },
    {
      "cell_type": "code",
      "execution_count": 6,
      "metadata": {
        "colab": {
          "base_uri": "https://localhost:8080/"
        },
        "id": "BUu2nOabN93-",
        "outputId": "e14dcc4f-db98-40be-f829-cc7e4d34ae24"
      },
      "outputs": [
        {
          "output_type": "stream",
          "name": "stdout",
          "text": [
            "<class 'pandas.core.frame.DataFrame'>\n",
            "RangeIndex: 10683 entries, 0 to 10682\n",
            "Data columns (total 11 columns):\n",
            " #   Column           Non-Null Count  Dtype \n",
            "---  ------           --------------  ----- \n",
            " 0   Airline          10683 non-null  object\n",
            " 1   Date_of_Journey  10683 non-null  object\n",
            " 2   Source           10683 non-null  object\n",
            " 3   Destination      10683 non-null  object\n",
            " 4   Route            10682 non-null  object\n",
            " 5   Dep_Time         10683 non-null  object\n",
            " 6   Arrival_Time     10683 non-null  object\n",
            " 7   Duration         10683 non-null  object\n",
            " 8   Total_Stops      10682 non-null  object\n",
            " 9   Additional_Info  10683 non-null  object\n",
            " 10  Price            10683 non-null  int64 \n",
            "dtypes: int64(1), object(10)\n",
            "memory usage: 918.2+ KB\n"
          ]
        }
      ],
      "source": [
        "df.info()"
      ]
    },
    {
      "cell_type": "code",
      "source": [
        "df.describe()"
      ],
      "metadata": {
        "colab": {
          "base_uri": "https://localhost:8080/",
          "height": 300
        },
        "id": "nF3nR1aRPSED",
        "outputId": "69915b60-a118-4be9-a372-1b4bcfdc27f0"
      },
      "execution_count": 7,
      "outputs": [
        {
          "output_type": "execute_result",
          "data": {
            "text/plain": [
              "              Price\n",
              "count  10683.000000\n",
              "mean    9087.064121\n",
              "std     4611.359167\n",
              "min     1759.000000\n",
              "25%     5277.000000\n",
              "50%     8372.000000\n",
              "75%    12373.000000\n",
              "max    79512.000000"
            ],
            "text/html": [
              "\n",
              "  <div id=\"df-d67f0991-c1d7-403e-a769-97cacbf3e49c\">\n",
              "    <div class=\"colab-df-container\">\n",
              "      <div>\n",
              "<style scoped>\n",
              "    .dataframe tbody tr th:only-of-type {\n",
              "        vertical-align: middle;\n",
              "    }\n",
              "\n",
              "    .dataframe tbody tr th {\n",
              "        vertical-align: top;\n",
              "    }\n",
              "\n",
              "    .dataframe thead th {\n",
              "        text-align: right;\n",
              "    }\n",
              "</style>\n",
              "<table border=\"1\" class=\"dataframe\">\n",
              "  <thead>\n",
              "    <tr style=\"text-align: right;\">\n",
              "      <th></th>\n",
              "      <th>Price</th>\n",
              "    </tr>\n",
              "  </thead>\n",
              "  <tbody>\n",
              "    <tr>\n",
              "      <th>count</th>\n",
              "      <td>10683.000000</td>\n",
              "    </tr>\n",
              "    <tr>\n",
              "      <th>mean</th>\n",
              "      <td>9087.064121</td>\n",
              "    </tr>\n",
              "    <tr>\n",
              "      <th>std</th>\n",
              "      <td>4611.359167</td>\n",
              "    </tr>\n",
              "    <tr>\n",
              "      <th>min</th>\n",
              "      <td>1759.000000</td>\n",
              "    </tr>\n",
              "    <tr>\n",
              "      <th>25%</th>\n",
              "      <td>5277.000000</td>\n",
              "    </tr>\n",
              "    <tr>\n",
              "      <th>50%</th>\n",
              "      <td>8372.000000</td>\n",
              "    </tr>\n",
              "    <tr>\n",
              "      <th>75%</th>\n",
              "      <td>12373.000000</td>\n",
              "    </tr>\n",
              "    <tr>\n",
              "      <th>max</th>\n",
              "      <td>79512.000000</td>\n",
              "    </tr>\n",
              "  </tbody>\n",
              "</table>\n",
              "</div>\n",
              "      <button class=\"colab-df-convert\" onclick=\"convertToInteractive('df-d67f0991-c1d7-403e-a769-97cacbf3e49c')\"\n",
              "              title=\"Convert this dataframe to an interactive table.\"\n",
              "              style=\"display:none;\">\n",
              "        \n",
              "  <svg xmlns=\"http://www.w3.org/2000/svg\" height=\"24px\"viewBox=\"0 0 24 24\"\n",
              "       width=\"24px\">\n",
              "    <path d=\"M0 0h24v24H0V0z\" fill=\"none\"/>\n",
              "    <path d=\"M18.56 5.44l.94 2.06.94-2.06 2.06-.94-2.06-.94-.94-2.06-.94 2.06-2.06.94zm-11 1L8.5 8.5l.94-2.06 2.06-.94-2.06-.94L8.5 2.5l-.94 2.06-2.06.94zm10 10l.94 2.06.94-2.06 2.06-.94-2.06-.94-.94-2.06-.94 2.06-2.06.94z\"/><path d=\"M17.41 7.96l-1.37-1.37c-.4-.4-.92-.59-1.43-.59-.52 0-1.04.2-1.43.59L10.3 9.45l-7.72 7.72c-.78.78-.78 2.05 0 2.83L4 21.41c.39.39.9.59 1.41.59.51 0 1.02-.2 1.41-.59l7.78-7.78 2.81-2.81c.8-.78.8-2.07 0-2.86zM5.41 20L4 18.59l7.72-7.72 1.47 1.35L5.41 20z\"/>\n",
              "  </svg>\n",
              "      </button>\n",
              "      \n",
              "  <style>\n",
              "    .colab-df-container {\n",
              "      display:flex;\n",
              "      flex-wrap:wrap;\n",
              "      gap: 12px;\n",
              "    }\n",
              "\n",
              "    .colab-df-convert {\n",
              "      background-color: #E8F0FE;\n",
              "      border: none;\n",
              "      border-radius: 50%;\n",
              "      cursor: pointer;\n",
              "      display: none;\n",
              "      fill: #1967D2;\n",
              "      height: 32px;\n",
              "      padding: 0 0 0 0;\n",
              "      width: 32px;\n",
              "    }\n",
              "\n",
              "    .colab-df-convert:hover {\n",
              "      background-color: #E2EBFA;\n",
              "      box-shadow: 0px 1px 2px rgba(60, 64, 67, 0.3), 0px 1px 3px 1px rgba(60, 64, 67, 0.15);\n",
              "      fill: #174EA6;\n",
              "    }\n",
              "\n",
              "    [theme=dark] .colab-df-convert {\n",
              "      background-color: #3B4455;\n",
              "      fill: #D2E3FC;\n",
              "    }\n",
              "\n",
              "    [theme=dark] .colab-df-convert:hover {\n",
              "      background-color: #434B5C;\n",
              "      box-shadow: 0px 1px 3px 1px rgba(0, 0, 0, 0.15);\n",
              "      filter: drop-shadow(0px 1px 2px rgba(0, 0, 0, 0.3));\n",
              "      fill: #FFFFFF;\n",
              "    }\n",
              "  </style>\n",
              "\n",
              "      <script>\n",
              "        const buttonEl =\n",
              "          document.querySelector('#df-d67f0991-c1d7-403e-a769-97cacbf3e49c button.colab-df-convert');\n",
              "        buttonEl.style.display =\n",
              "          google.colab.kernel.accessAllowed ? 'block' : 'none';\n",
              "\n",
              "        async function convertToInteractive(key) {\n",
              "          const element = document.querySelector('#df-d67f0991-c1d7-403e-a769-97cacbf3e49c');\n",
              "          const dataTable =\n",
              "            await google.colab.kernel.invokeFunction('convertToInteractive',\n",
              "                                                     [key], {});\n",
              "          if (!dataTable) return;\n",
              "\n",
              "          const docLinkHtml = 'Like what you see? Visit the ' +\n",
              "            '<a target=\"_blank\" href=https://colab.research.google.com/notebooks/data_table.ipynb>data table notebook</a>'\n",
              "            + ' to learn more about interactive tables.';\n",
              "          element.innerHTML = '';\n",
              "          dataTable['output_type'] = 'display_data';\n",
              "          await google.colab.output.renderOutput(dataTable, element);\n",
              "          const docLink = document.createElement('div');\n",
              "          docLink.innerHTML = docLinkHtml;\n",
              "          element.appendChild(docLink);\n",
              "        }\n",
              "      </script>\n",
              "    </div>\n",
              "  </div>\n",
              "  "
            ]
          },
          "metadata": {},
          "execution_count": 7
        }
      ]
    },
    {
      "cell_type": "code",
      "execution_count": 8,
      "metadata": {
        "colab": {
          "base_uri": "https://localhost:8080/"
        },
        "id": "kevnOdHKH_L9",
        "outputId": "8faa0949-2e40-4659-8451-a4df7d401562"
      },
      "outputs": [
        {
          "output_type": "execute_result",
          "data": {
            "text/plain": [
              "2"
            ]
          },
          "metadata": {},
          "execution_count": 8
        }
      ],
      "source": [
        "df.isna().sum().sum() #The df has 2 Nan , So we'll drop them"
      ]
    },
    {
      "cell_type": "code",
      "execution_count": 9,
      "metadata": {
        "id": "8rEYabWPIP0W"
      },
      "outputs": [],
      "source": [
        "df = df.dropna()"
      ]
    },
    {
      "cell_type": "code",
      "execution_count": 10,
      "metadata": {
        "colab": {
          "base_uri": "https://localhost:8080/"
        },
        "id": "kb5tgZE1M786",
        "outputId": "c7b8487b-82f6-4baa-d8a4-7fd3b2a2d424"
      },
      "outputs": [
        {
          "output_type": "execute_result",
          "data": {
            "text/plain": [
              "220"
            ]
          },
          "metadata": {},
          "execution_count": 10
        }
      ],
      "source": [
        "df.duplicated().sum() # 220 duplicated rows which is a relatively high number and could affect our model, so lets drop them\n"
      ]
    },
    {
      "cell_type": "code",
      "execution_count": 11,
      "metadata": {
        "colab": {
          "base_uri": "https://localhost:8080/"
        },
        "id": "ogPZKsLMNT-3",
        "outputId": "064c9fe0-bf75-4411-9023-0ea0dd4e800c"
      },
      "outputs": [
        {
          "output_type": "execute_result",
          "data": {
            "text/plain": [
              "0"
            ]
          },
          "metadata": {},
          "execution_count": 11
        }
      ],
      "source": [
        "df = df.drop_duplicates()\n",
        "df.duplicated().sum() #Done"
      ]
    },
    {
      "cell_type": "code",
      "execution_count": 12,
      "metadata": {
        "colab": {
          "base_uri": "https://localhost:8080/"
        },
        "id": "yFn9ruwOOpWC",
        "outputId": "4b04f213-17ac-49fb-bfb2-323348ec9c76"
      },
      "outputs": [
        {
          "output_type": "execute_result",
          "data": {
            "text/plain": [
              "12"
            ]
          },
          "metadata": {},
          "execution_count": 12
        }
      ],
      "source": [
        "# Howmany airlines are we dealing with??\n",
        "df['Airline'].nunique()  #12 airlines"
      ]
    },
    {
      "cell_type": "code",
      "source": [
        "plt.boxplot(df['Price'])\n",
        "#it appears that their is an outlier, lets check what is it"
      ],
      "metadata": {
        "colab": {
          "base_uri": "https://localhost:8080/",
          "height": 410
        },
        "id": "Eh9YGHgYV6GJ",
        "outputId": "559ba77f-3f4b-4106-87bd-d892268c61ff"
      },
      "execution_count": 13,
      "outputs": [
        {
          "output_type": "execute_result",
          "data": {
            "text/plain": [
              "{'whiskers': [<matplotlib.lines.Line2D at 0x7fa5410cf9d0>,\n",
              "  <matplotlib.lines.Line2D at 0x7fa5410cff10>],\n",
              " 'caps': [<matplotlib.lines.Line2D at 0x7fa54105a490>,\n",
              "  <matplotlib.lines.Line2D at 0x7fa54105a9d0>],\n",
              " 'boxes': [<matplotlib.lines.Line2D at 0x7fa5410cf3d0>],\n",
              " 'medians': [<matplotlib.lines.Line2D at 0x7fa54105af50>],\n",
              " 'fliers': [<matplotlib.lines.Line2D at 0x7fa5410bf910>],\n",
              " 'means': []}"
            ]
          },
          "metadata": {},
          "execution_count": 13
        },
        {
          "output_type": "display_data",
          "data": {
            "text/plain": [
              "<Figure size 432x288 with 1 Axes>"
            ],
            "image/png": "[encoded data removed]"
          },
          "metadata": {
            "needs_background": "light"
          }
        }
      ]
    },
    {
      "cell_type": "code",
      "source": [
        "df[df['Price']>=70000]#So as you can see, this row can be an outlier because the prifce is so high compared to the other ones\n"
      ],
      "metadata": {
        "colab": {
          "base_uri": "https://localhost:8080/",
          "height": 81
        },
        "id": "iS2amHq6fiee",
        "outputId": "916c35a1-e94c-45ab-e330-03d194ca23da"
      },
      "execution_count": 14,
      "outputs": [
        {
          "output_type": "execute_result",
          "data": {
            "text/plain": [
              "                   Airline Date_of_Journey    Source Destination  \\\n",
              "2924  Jet Airways Business      01/03/2019  Banglore   New Delhi   \n",
              "\n",
              "                Route Dep_Time Arrival_Time Duration Total_Stops  \\\n",
              "2924  BLR ? BOM ? DEL    05:45        11:25   5h 40m      1 stop   \n",
              "\n",
              "     Additional_Info  Price  \n",
              "2924  Business class  79512  "
            ],
            "text/html": [
              "\n",
              "  <div id=\"df-d89f6eaa-5072-4091-8cc0-57a1090856d5\">\n",
              "    <div class=\"colab-df-container\">\n",
              "      <div>\n",
              "<style scoped>\n",
              "    .dataframe tbody tr th:only-of-type {\n",
              "        vertical-align: middle;\n",
              "    }\n",
              "\n",
              "    .dataframe tbody tr th {\n",
              "        vertical-align: top;\n",
              "    }\n",
              "\n",
              "    .dataframe thead th {\n",
              "        text-align: right;\n",
              "    }\n",
              "</style>\n",
              "<table border=\"1\" class=\"dataframe\">\n",
              "  <thead>\n",
              "    <tr style=\"text-align: right;\">\n",
              "      <th></th>\n",
              "      <th>Airline</th>\n",
              "      <th>Date_of_Journey</th>\n",
              "      <th>Source</th>\n",
              "      <th>Destination</th>\n",
              "      <th>Route</th>\n",
              "      <th>Dep_Time</th>\n",
              "      <th>Arrival_Time</th>\n",
              "      <th>Duration</th>\n",
              "      <th>Total_Stops</th>\n",
              "      <th>Additional_Info</th>\n",
              "      <th>Price</th>\n",
              "    </tr>\n",
              "  </thead>\n",
              "  <tbody>\n",
              "    <tr>\n",
              "      <th>2924</th>\n",
              "      <td>Jet Airways Business</td>\n",
              "      <td>01/03/2019</td>\n",
              "      <td>Banglore</td>\n",
              "      <td>New Delhi</td>\n",
              "      <td>BLR ? BOM ? DEL</td>\n",
              "      <td>05:45</td>\n",
              "      <td>11:25</td>\n",
              "      <td>5h 40m</td>\n",
              "      <td>1 stop</td>\n",
              "      <td>Business class</td>\n",
              "      <td>79512</td>\n",
              "    </tr>\n",
              "  </tbody>\n",
              "</table>\n",
              "</div>\n",
              "      <button class=\"colab-df-convert\" onclick=\"convertToInteractive('df-d89f6eaa-5072-4091-8cc0-57a1090856d5')\"\n",
              "              title=\"Convert this dataframe to an interactive table.\"\n",
              "              style=\"display:none;\">\n",
              "        \n",
              "  <svg xmlns=\"http://www.w3.org/2000/svg\" height=\"24px\"viewBox=\"0 0 24 24\"\n",
              "       width=\"24px\">\n",
              "    <path d=\"M0 0h24v24H0V0z\" fill=\"none\"/>\n",
              "    <path d=\"M18.56 5.44l.94 2.06.94-2.06 2.06-.94-2.06-.94-.94-2.06-.94 2.06-2.06.94zm-11 1L8.5 8.5l.94-2.06 2.06-.94-2.06-.94L8.5 2.5l-.94 2.06-2.06.94zm10 10l.94 2.06.94-2.06 2.06-.94-2.06-.94-.94-2.06-.94 2.06-2.06.94z\"/><path d=\"M17.41 7.96l-1.37-1.37c-.4-.4-.92-.59-1.43-.59-.52 0-1.04.2-1.43.59L10.3 9.45l-7.72 7.72c-.78.78-.78 2.05 0 2.83L4 21.41c.39.39.9.59 1.41.59.51 0 1.02-.2 1.41-.59l7.78-7.78 2.81-2.81c.8-.78.8-2.07 0-2.86zM5.41 20L4 18.59l7.72-7.72 1.47 1.35L5.41 20z\"/>\n",
              "  </svg>\n",
              "      </button>\n",
              "      \n",
              "  <style>\n",
              "    .colab-df-container {\n",
              "      display:flex;\n",
              "      flex-wrap:wrap;\n",
              "      gap: 12px;\n",
              "    }\n",
              "\n",
              "    .colab-df-convert {\n",
              "      background-color: #E8F0FE;\n",
              "      border: none;\n",
              "      border-radius: 50%;\n",
              "      cursor: pointer;\n",
              "      display: none;\n",
              "      fill: #1967D2;\n",
              "      height: 32px;\n",
              "      padding: 0 0 0 0;\n",
              "      width: 32px;\n",
              "    }\n",
              "\n",
              "    .colab-df-convert:hover {\n",
              "      background-color: #E2EBFA;\n",
              "      box-shadow: 0px 1px 2px rgba(60, 64, 67, 0.3), 0px 1px 3px 1px rgba(60, 64, 67, 0.15);\n",
              "      fill: #174EA6;\n",
              "    }\n",
              "\n",
              "    [theme=dark] .colab-df-convert {\n",
              "      background-color: #3B4455;\n",
              "      fill: #D2E3FC;\n",
              "    }\n",
              "\n",
              "    [theme=dark] .colab-df-convert:hover {\n",
              "      background-color: #434B5C;\n",
              "      box-shadow: 0px 1px 3px 1px rgba(0, 0, 0, 0.15);\n",
              "      filter: drop-shadow(0px 1px 2px rgba(0, 0, 0, 0.3));\n",
              "      fill: #FFFFFF;\n",
              "    }\n",
              "  </style>\n",
              "\n",
              "      <script>\n",
              "        const buttonEl =\n",
              "          document.querySelector('#df-d89f6eaa-5072-4091-8cc0-57a1090856d5 button.colab-df-convert');\n",
              "        buttonEl.style.display =\n",
              "          google.colab.kernel.accessAllowed ? 'block' : 'none';\n",
              "\n",
              "        async function convertToInteractive(key) {\n",
              "          const element = document.querySelector('#df-d89f6eaa-5072-4091-8cc0-57a1090856d5');\n",
              "          const dataTable =\n",
              "            await google.colab.kernel.invokeFunction('convertToInteractive',\n",
              "                                                     [key], {});\n",
              "          if (!dataTable) return;\n",
              "\n",
              "          const docLinkHtml = 'Like what you see? Visit the ' +\n",
              "            '<a target=\"_blank\" href=https://colab.research.google.com/notebooks/data_table.ipynb>data table notebook</a>'\n",
              "            + ' to learn more about interactive tables.';\n",
              "          element.innerHTML = '';\n",
              "          dataTable['output_type'] = 'display_data';\n",
              "          await google.colab.output.renderOutput(dataTable, element);\n",
              "          const docLink = document.createElement('div');\n",
              "          docLink.innerHTML = docLinkHtml;\n",
              "          element.appendChild(docLink);\n",
              "        }\n",
              "      </script>\n",
              "    </div>\n",
              "  </div>\n",
              "  "
            ]
          },
          "metadata": {},
          "execution_count": 14
        }
      ]
    },
    {
      "cell_type": "code",
      "source": [
        "i = df[df['Price']>=70000].index"
      ],
      "metadata": {
        "id": "ioQ4G_uKgsWZ"
      },
      "execution_count": 15,
      "outputs": []
    },
    {
      "cell_type": "code",
      "source": [
        "#Lets drop it\n",
        "df.drop(i) # Done :)"
      ],
      "metadata": {
        "colab": {
          "base_uri": "https://localhost:8080/",
          "height": 423
        },
        "id": "vvtqQyZsgWx5",
        "outputId": "1f4ba73a-7e59-4950-ca7a-11e9c4322e92"
      },
      "execution_count": 16,
      "outputs": [
        {
          "output_type": "execute_result",
          "data": {
            "text/plain": [
              "           Airline Date_of_Journey    Source Destination  \\\n",
              "0           IndiGo      24/03/2019  Banglore   New Delhi   \n",
              "1        Air India       1/05/2019   Kolkata    Banglore   \n",
              "2      Jet Airways       9/06/2019     Delhi      Cochin   \n",
              "3           IndiGo      12/05/2019   Kolkata    Banglore   \n",
              "4           IndiGo      01/03/2019  Banglore   New Delhi   \n",
              "...            ...             ...       ...         ...   \n",
              "10678     Air Asia       9/04/2019   Kolkata    Banglore   \n",
              "10679    Air India      27/04/2019   Kolkata    Banglore   \n",
              "10680  Jet Airways      27/04/2019  Banglore       Delhi   \n",
              "10681      Vistara      01/03/2019  Banglore   New Delhi   \n",
              "10682    Air India       9/05/2019     Delhi      Cochin   \n",
              "\n",
              "                       Route Dep_Time  Arrival_Time Duration Total_Stops  \\\n",
              "0                  BLR ? DEL    22:20  01:10 22 Mar   2h 50m    non-stop   \n",
              "1      CCU ? IXR ? BBI ? BLR    05:50         13:15   7h 25m     2 stops   \n",
              "2      DEL ? LKO ? BOM ? COK    09:25  04:25 10 Jun      19h     2 stops   \n",
              "3            CCU ? NAG ? BLR    18:05         23:30   5h 25m      1 stop   \n",
              "4            BLR ? NAG ? DEL    16:50         21:35   4h 45m      1 stop   \n",
              "...                      ...      ...           ...      ...         ...   \n",
              "10678              CCU ? BLR    19:55         22:25   2h 30m    non-stop   \n",
              "10679              CCU ? BLR    20:45         23:20   2h 35m    non-stop   \n",
              "10680              BLR ? DEL    08:20         11:20       3h    non-stop   \n",
              "10681              BLR ? DEL    11:30         14:10   2h 40m    non-stop   \n",
              "10682  DEL ? GOI ? BOM ? COK    10:55         19:15   8h 20m     2 stops   \n",
              "\n",
              "      Additional_Info  Price  \n",
              "0             No info   3897  \n",
              "1             No info   7662  \n",
              "2             No info  13882  \n",
              "3             No info   6218  \n",
              "4             No info  13302  \n",
              "...               ...    ...  \n",
              "10678         No info   4107  \n",
              "10679         No info   4145  \n",
              "10680         No info   7229  \n",
              "10681         No info  12648  \n",
              "10682         No info  11753  \n",
              "\n",
              "[10461 rows x 11 columns]"
            ],
            "text/html": [
              "\n",
              "  <div id=\"df-6bd2676b-d77e-4451-b269-0d61f2cf9107\">\n",
              "    <div class=\"colab-df-container\">\n",
              "      <div>\n",
              "<style scoped>\n",
              "    .dataframe tbody tr th:only-of-type {\n",
              "        vertical-align: middle;\n",
              "    }\n",
              "\n",
              "    .dataframe tbody tr th {\n",
              "        vertical-align: top;\n",
              "    }\n",
              "\n",
              "    .dataframe thead th {\n",
              "        text-align: right;\n",
              "    }\n",
              "</style>\n",
              "<table border=\"1\" class=\"dataframe\">\n",
              "  <thead>\n",
              "    <tr style=\"text-align: right;\">\n",
              "      <th></th>\n",
              "      <th>Airline</th>\n",
              "      <th>Date_of_Journey</th>\n",
              "      <th>Source</th>\n",
              "      <th>Destination</th>\n",
              "      <th>Route</th>\n",
              "      <th>Dep_Time</th>\n",
              "      <th>Arrival_Time</th>\n",
              "      <th>Duration</th>\n",
              "      <th>Total_Stops</th>\n",
              "      <th>Additional_Info</th>\n",
              "      <th>Price</th>\n",
              "    </tr>\n",
              "  </thead>\n",
              "  <tbody>\n",
              "    <tr>\n",
              "      <th>0</th>\n",
              "      <td>IndiGo</td>\n",
              "      <td>24/03/2019</td>\n",
              "      <td>Banglore</td>\n",
              "      <td>New Delhi</td>\n",
              "      <td>BLR ? DEL</td>\n",
              "      <td>22:20</td>\n",
              "      <td>01:10 22 Mar</td>\n",
              "      <td>2h 50m</td>\n",
              "      <td>non-stop</td>\n",
              "      <td>No info</td>\n",
              "      <td>3897</td>\n",
              "    </tr>\n",
              "    <tr>\n",
              "      <th>1</th>\n",
              "      <td>Air India</td>\n",
              "      <td>1/05/2019</td>\n",
              "      <td>Kolkata</td>\n",
              "      <td>Banglore</td>\n",
              "      <td>CCU ? IXR ? BBI ? BLR</td>\n",
              "      <td>05:50</td>\n",
              "      <td>13:15</td>\n",
              "      <td>7h 25m</td>\n",
              "      <td>2 stops</td>\n",
              "      <td>No info</td>\n",
              "      <td>7662</td>\n",
              "    </tr>\n",
              "    <tr>\n",
              "      <th>2</th>\n",
              "      <td>Jet Airways</td>\n",
              "      <td>9/06/2019</td>\n",
              "      <td>Delhi</td>\n",
              "      <td>Cochin</td>\n",
              "      <td>DEL ? LKO ? BOM ? COK</td>\n",
              "      <td>09:25</td>\n",
              "      <td>04:25 10 Jun</td>\n",
              "      <td>19h</td>\n",
              "      <td>2 stops</td>\n",
              "      <td>No info</td>\n",
              "      <td>13882</td>\n",
              "    </tr>\n",
              "    <tr>\n",
              "      <th>3</th>\n",
              "      <td>IndiGo</td>\n",
              "      <td>12/05/2019</td>\n",
              "      <td>Kolkata</td>\n",
              "      <td>Banglore</td>\n",
              "      <td>CCU ? NAG ? BLR</td>\n",
              "      <td>18:05</td>\n",
              "      <td>23:30</td>\n",
              "      <td>5h 25m</td>\n",
              "      <td>1 stop</td>\n",
              "      <td>No info</td>\n",
              "      <td>6218</td>\n",
              "    </tr>\n",
              "    <tr>\n",
              "      <th>4</th>\n",
              "      <td>IndiGo</td>\n",
              "      <td>01/03/2019</td>\n",
              "      <td>Banglore</td>\n",
              "      <td>New Delhi</td>\n",
              "      <td>BLR ? NAG ? DEL</td>\n",
              "      <td>16:50</td>\n",
              "      <td>21:35</td>\n",
              "      <td>4h 45m</td>\n",
              "      <td>1 stop</td>\n",
              "      <td>No info</td>\n",
              "      <td>13302</td>\n",
              "    </tr>\n",
              "    <tr>\n",
              "      <th>...</th>\n",
              "      <td>...</td>\n",
              "      <td>...</td>\n",
              "      <td>...</td>\n",
              "      <td>...</td>\n",
              "      <td>...</td>\n",
              "      <td>...</td>\n",
              "      <td>...</td>\n",
              "      <td>...</td>\n",
              "      <td>...</td>\n",
              "      <td>...</td>\n",
              "      <td>...</td>\n",
              "    </tr>\n",
              "    <tr>\n",
              "      <th>10678</th>\n",
              "      <td>Air Asia</td>\n",
              "      <td>9/04/2019</td>\n",
              "      <td>Kolkata</td>\n",
              "      <td>Banglore</td>\n",
              "      <td>CCU ? BLR</td>\n",
              "      <td>19:55</td>\n",
              "      <td>22:25</td>\n",
              "      <td>2h 30m</td>\n",
              "      <td>non-stop</td>\n",
              "      <td>No info</td>\n",
              "      <td>4107</td>\n",
              "    </tr>\n",
              "    <tr>\n",
              "      <th>10679</th>\n",
              "      <td>Air India</td>\n",
              "      <td>27/04/2019</td>\n",
              "      <td>Kolkata</td>\n",
              "      <td>Banglore</td>\n",
              "      <td>CCU ? BLR</td>\n",
              "      <td>20:45</td>\n",
              "      <td>23:20</td>\n",
              "      <td>2h 35m</td>\n",
              "      <td>non-stop</td>\n",
              "      <td>No info</td>\n",
              "      <td>4145</td>\n",
              "    </tr>\n",
              "    <tr>\n",
              "      <th>10680</th>\n",
              "      <td>Jet Airways</td>\n",
              "      <td>27/04/2019</td>\n",
              "      <td>Banglore</td>\n",
              "      <td>Delhi</td>\n",
              "      <td>BLR ? DEL</td>\n",
              "      <td>08:20</td>\n",
              "      <td>11:20</td>\n",
              "      <td>3h</td>\n",
              "      <td>non-stop</td>\n",
              "      <td>No info</td>\n",
              "      <td>7229</td>\n",
              "    </tr>\n",
              "    <tr>\n",
              "      <th>10681</th>\n",
              "      <td>Vistara</td>\n",
              "      <td>01/03/2019</td>\n",
              "      <td>Banglore</td>\n",
              "      <td>New Delhi</td>\n",
              "      <td>BLR ? DEL</td>\n",
              "      <td>11:30</td>\n",
              "      <td>14:10</td>\n",
              "      <td>2h 40m</td>\n",
              "      <td>non-stop</td>\n",
              "      <td>No info</td>\n",
              "      <td>12648</td>\n",
              "    </tr>\n",
              "    <tr>\n",
              "      <th>10682</th>\n",
              "      <td>Air India</td>\n",
              "      <td>9/05/2019</td>\n",
              "      <td>Delhi</td>\n",
              "      <td>Cochin</td>\n",
              "      <td>DEL ? GOI ? BOM ? COK</td>\n",
              "      <td>10:55</td>\n",
              "      <td>19:15</td>\n",
              "      <td>8h 20m</td>\n",
              "      <td>2 stops</td>\n",
              "      <td>No info</td>\n",
              "      <td>11753</td>\n",
              "    </tr>\n",
              "  </tbody>\n",
              "</table>\n",
              "<p>10461 rows × 11 columns</p>\n",
              "</div>\n",
              "      <button class=\"colab-df-convert\" onclick=\"convertToInteractive('df-6bd2676b-d77e-4451-b269-0d61f2cf9107')\"\n",
              "              title=\"Convert this dataframe to an interactive table.\"\n",
              "              style=\"display:none;\">\n",
              "        \n",
              "  <svg xmlns=\"http://www.w3.org/2000/svg\" height=\"24px\"viewBox=\"0 0 24 24\"\n",
              "       width=\"24px\">\n",
              "    <path d=\"M0 0h24v24H0V0z\" fill=\"none\"/>\n",
              "    <path d=\"M18.56 5.44l.94 2.06.94-2.06 2.06-.94-2.06-.94-.94-2.06-.94 2.06-2.06.94zm-11 1L8.5 8.5l.94-2.06 2.06-.94-2.06-.94L8.5 2.5l-.94 2.06-2.06.94zm10 10l.94 2.06.94-2.06 2.06-.94-2.06-.94-.94-2.06-.94 2.06-2.06.94z\"/><path d=\"M17.41 7.96l-1.37-1.37c-.4-.4-.92-.59-1.43-.59-.52 0-1.04.2-1.43.59L10.3 9.45l-7.72 7.72c-.78.78-.78 2.05 0 2.83L4 21.41c.39.39.9.59 1.41.59.51 0 1.02-.2 1.41-.59l7.78-7.78 2.81-2.81c.8-.78.8-2.07 0-2.86zM5.41 20L4 18.59l7.72-7.72 1.47 1.35L5.41 20z\"/>\n",
              "  </svg>\n",
              "      </button>\n",
              "      \n",
              "  <style>\n",
              "    .colab-df-container {\n",
              "      display:flex;\n",
              "      flex-wrap:wrap;\n",
              "      gap: 12px;\n",
              "    }\n",
              "\n",
              "    .colab-df-convert {\n",
              "      background-color: #E8F0FE;\n",
              "      border: none;\n",
              "      border-radius: 50%;\n",
              "      cursor: pointer;\n",
              "      display: none;\n",
              "      fill: #1967D2;\n",
              "      height: 32px;\n",
              "      padding: 0 0 0 0;\n",
              "      width: 32px;\n",
              "    }\n",
              "\n",
              "    .colab-df-convert:hover {\n",
              "      background-color: #E2EBFA;\n",
              "      box-shadow: 0px 1px 2px rgba(60, 64, 67, 0.3), 0px 1px 3px 1px rgba(60, 64, 67, 0.15);\n",
              "      fill: #174EA6;\n",
              "    }\n",
              "\n",
              "    [theme=dark] .colab-df-convert {\n",
              "      background-color: #3B4455;\n",
              "      fill: #D2E3FC;\n",
              "    }\n",
              "\n",
              "    [theme=dark] .colab-df-convert:hover {\n",
              "      background-color: #434B5C;\n",
              "      box-shadow: 0px 1px 3px 1px rgba(0, 0, 0, 0.15);\n",
              "      filter: drop-shadow(0px 1px 2px rgba(0, 0, 0, 0.3));\n",
              "      fill: #FFFFFF;\n",
              "    }\n",
              "  </style>\n",
              "\n",
              "      <script>\n",
              "        const buttonEl =\n",
              "          document.querySelector('#df-6bd2676b-d77e-4451-b269-0d61f2cf9107 button.colab-df-convert');\n",
              "        buttonEl.style.display =\n",
              "          google.colab.kernel.accessAllowed ? 'block' : 'none';\n",
              "\n",
              "        async function convertToInteractive(key) {\n",
              "          const element = document.querySelector('#df-6bd2676b-d77e-4451-b269-0d61f2cf9107');\n",
              "          const dataTable =\n",
              "            await google.colab.kernel.invokeFunction('convertToInteractive',\n",
              "                                                     [key], {});\n",
              "          if (!dataTable) return;\n",
              "\n",
              "          const docLinkHtml = 'Like what you see? Visit the ' +\n",
              "            '<a target=\"_blank\" href=https://colab.research.google.com/notebooks/data_table.ipynb>data table notebook</a>'\n",
              "            + ' to learn more about interactive tables.';\n",
              "          element.innerHTML = '';\n",
              "          dataTable['output_type'] = 'display_data';\n",
              "          await google.colab.output.renderOutput(dataTable, element);\n",
              "          const docLink = document.createElement('div');\n",
              "          docLink.innerHTML = docLinkHtml;\n",
              "          element.appendChild(docLink);\n",
              "        }\n",
              "      </script>\n",
              "    </div>\n",
              "  </div>\n",
              "  "
            ]
          },
          "metadata": {},
          "execution_count": 16
        }
      ]
    },
    {
      "cell_type": "code",
      "execution_count": 17,
      "metadata": {
        "colab": {
          "base_uri": "https://localhost:8080/",
          "height": 531
        },
        "id": "sXiqHFPgIb9c",
        "outputId": "c708c5a1-3891-4266-c129-263bf11fd5f3"
      },
      "outputs": [
        {
          "output_type": "execute_result",
          "data": {
            "text/plain": [
              "Text(0.5, 1.0, 'Airlines that has most rides')"
            ]
          },
          "metadata": {},
          "execution_count": 17
        },
        {
          "output_type": "display_data",
          "data": {
            "text/plain": [
              "<Figure size 1440x576 with 1 Axes>"
            ],
            "image/png": "[encoded data removed]"
          },
          "metadata": {
            "needs_background": "light"
          }
        }
      ],
      "source": [
        "#Let's check which airline has most rides\n",
        "plt.figure(figsize=(20,8))\n",
        "a = sns.countplot(data=df, x='Airline', order = df['Airline'].value_counts().index, palette='crest')\n",
        "a.set_xlim(-0.5,8.5)\n",
        "a.set_title('Airlines that has most rides')\n",
        "\n",
        "#Jet Airways has most rides, maybe they provide best offers"
      ]
    },
    {
      "cell_type": "code",
      "execution_count": 18,
      "metadata": {
        "colab": {
          "base_uri": "https://localhost:8080/",
          "height": 515
        },
        "id": "CQxh4phhJGyq",
        "outputId": "73dbe296-52d0-4b81-d23e-9e2f6be415e3"
      },
      "outputs": [
        {
          "output_type": "execute_result",
          "data": {
            "text/plain": [
              "(-0.5, 8.5)"
            ]
          },
          "metadata": {},
          "execution_count": 18
        },
        {
          "output_type": "display_data",
          "data": {
            "text/plain": [
              "<Figure size 1440x576 with 1 Axes>"
            ],
            "image/png": "[encoded data removed]"
          },
          "metadata": {
            "needs_background": "light"
          }
        }
      ],
      "source": [
        "#Let's check which air line provide best prices\n",
        "\n",
        "plt.figure(figsize=(20,8))\n",
        "order = df.groupby(['Airline'])['Price'].mean().sort_values(ascending=False).index\n",
        "b = sns.barplot(data=df, x='Airline', y='Price', order=order, palette='crest')\n",
        "b.set_xlim(-0.5,8.5)\n",
        "\n",
        "\n",
        "#From this plot we see that jet airway business has very high prices, The prices of the jet airways economy and the other ones are nearly the same.\n",
        "#Maybe jetair ways has best service , or the dataset maybe the problem"
      ]
    },
    {
      "cell_type": "code",
      "execution_count": 19,
      "metadata": {
        "colab": {
          "base_uri": "https://localhost:8080/"
        },
        "id": "zDXCD4RrLTOi",
        "outputId": "3dfdae35-c8f8-4733-c3ed-ab345748508d"
      },
      "outputs": [
        {
          "output_type": "execute_result",
          "data": {
            "text/plain": [
              "5"
            ]
          },
          "metadata": {},
          "execution_count": 19
        }
      ],
      "source": [
        "df['Source'].nunique() # 5 sources , Lets check which has the most count\n"
      ]
    },
    {
      "cell_type": "code",
      "execution_count": 20,
      "metadata": {
        "colab": {
          "base_uri": "https://localhost:8080/",
          "height": 531
        },
        "id": "OuaL3W84TrBH",
        "outputId": "ed619c6f-41e9-474d-f71b-559a39eb8d5d"
      },
      "outputs": [
        {
          "output_type": "execute_result",
          "data": {
            "text/plain": [
              "Text(0.5, 1.0, 'Source count')"
            ]
          },
          "metadata": {},
          "execution_count": 20
        },
        {
          "output_type": "display_data",
          "data": {
            "text/plain": [
              "<Figure size 864x576 with 1 Axes>"
            ],
            "image/png": "[encoded data removed]"
          },
          "metadata": {
            "needs_background": "light"
          }
        }
      ],
      "source": [
        "\n",
        "plt.figure(figsize=(12,8))\n",
        "h = sns.countplot(data=df, x='Source', order = df['Source'].value_counts().index, palette='crest')\n",
        "h.set_title('Source count')\n",
        "\n",
        "#Delhi is the highest source"
      ]
    },
    {
      "cell_type": "code",
      "execution_count": 21,
      "metadata": {
        "colab": {
          "base_uri": "https://localhost:8080/",
          "height": 531
        },
        "id": "e6t2On7d1Yy6",
        "outputId": "81945885-71b2-410e-96c2-60c756456f72"
      },
      "outputs": [
        {
          "output_type": "execute_result",
          "data": {
            "text/plain": [
              "Text(0.5, 1.0, 'Source and prices barplot')"
            ]
          },
          "metadata": {},
          "execution_count": 21
        },
        {
          "output_type": "display_data",
          "data": {
            "text/plain": [
              "<Figure size 864x576 with 1 Axes>"
            ],
            "image/png": "[encoded data removed]"
          },
          "metadata": {
            "needs_background": "light"
          }
        }
      ],
      "source": [
        "\n",
        "plt.figure(figsize=(12,8))\n",
        "order = df.groupby([\"Source\"])[\"Price\"].mean().sort_values(ascending=False).index\n",
        "h = sns.barplot(data=df, x='Source', y='Price',  order = order, palette='crest')\n",
        "h.set_title('Source and prices barplot')\n",
        "\n",
        "\n",
        "#We can deduce from this plot that Flights from Delhi have highest price"
      ]
    },
    {
      "cell_type": "code",
      "execution_count": 22,
      "metadata": {
        "colab": {
          "base_uri": "https://localhost:8080/"
        },
        "id": "VtNkuVvQT8QC",
        "outputId": "64b3b188-24fb-438e-b821-1083edf8e85d"
      },
      "outputs": [
        {
          "output_type": "execute_result",
          "data": {
            "text/plain": [
              "6"
            ]
          },
          "metadata": {},
          "execution_count": 22
        }
      ],
      "source": [
        "df['Destination'].nunique() #6 Unique destinations, lets find which one has highest count\n"
      ]
    },
    {
      "cell_type": "code",
      "execution_count": 23,
      "metadata": {
        "colab": {
          "base_uri": "https://localhost:8080/",
          "height": 497
        },
        "id": "TJkkesRUWinA",
        "outputId": "e0246b5b-64d6-4860-ce1f-2d4201488def"
      },
      "outputs": [
        {
          "output_type": "display_data",
          "data": {
            "text/plain": [
              "<Figure size 864x576 with 1 Axes>"
            ],
            "image/png": "[encoded data removed]"
          },
          "metadata": {
            "needs_background": "light"
          }
        }
      ],
      "source": [
        "\n",
        "plt.figure(figsize=(12,8))\n",
        "s = sns.countplot(data=df, x='Destination', order=df['Destination'].value_counts().index ,palette='crest')\n",
        "#Most people ride to Cochin, \n",
        "#Have you noticed something? all these data are related to india, so this is an indian dataset to compare price tickets."
      ]
    },
    {
      "cell_type": "code",
      "execution_count": 24,
      "metadata": {
        "colab": {
          "base_uri": "https://localhost:8080/",
          "height": 497
        },
        "id": "PwGK2N2Dev6q",
        "outputId": "26d29db1-27f6-4c65-9845-970c9ea25a62"
      },
      "outputs": [
        {
          "output_type": "display_data",
          "data": {
            "text/plain": [
              "<Figure size 864x576 with 1 Axes>"
            ],
            "image/png": "[encoded data removed]"
          },
          "metadata": {
            "needs_background": "light"
          }
        }
      ],
      "source": [
        "#Lets see the destination that has the highest price\n",
        "plt.figure(figsize=(12,8))\n",
        "order = df.groupby(['Destination'])['Price'].mean().sort_values(ascending = False).index\n",
        "m = sns.barplot(data=df, x='Destination', y = 'Price', order = order, palette = 'crest')\n",
        "\n",
        "#New delhi is the destination that has highest prices"
      ]
    },
    {
      "cell_type": "code",
      "source": [
        "plt.figure(figsize=(25,20))\n",
        "plt.subplot(2,2,1)\n",
        "s = sns.countplot(data=df, x='Destination', order=df['Destination'].value_counts().index ,palette='crest')\n",
        "s.set_title('Highest destination values')\n",
        "\n",
        "plt.subplot(2,2,2)\n",
        "order = df.groupby(['Destination'])['Price'].mean().sort_values(ascending = False).index\n",
        "m = sns.barplot(data=df, x='Destination', y = 'Price', order = order, palette = 'crest')\n",
        "m.set_title('Highest price destinations')\n"
      ],
      "metadata": {
        "colab": {
          "base_uri": "https://localhost:8080/",
          "height": 531
        },
        "id": "PZ8zFVoLRxfA",
        "outputId": "74050f3f-b931-4e22-d80c-f5efd3978f89"
      },
      "execution_count": 25,
      "outputs": [
        {
          "output_type": "execute_result",
          "data": {
            "text/plain": [
              "Text(0.5, 1.0, 'Highest price destinations')"
            ]
          },
          "metadata": {},
          "execution_count": 25
        },
        {
          "output_type": "display_data",
          "data": {
            "text/plain": [
              "<Figure size 1800x1440 with 2 Axes>"
            ],
            "image/png": "[encoded data removed]"
          },
          "metadata": {
            "needs_background": "light"
          }
        }
      ]
    },
    {
      "cell_type": "code",
      "execution_count": 26,
      "metadata": {
        "colab": {
          "base_uri": "https://localhost:8080/",
          "height": 1000
        },
        "id": "wDYKTe_VW7A7",
        "outputId": "1c3730e3-a3c5-45d6-d24e-1207224bbc45"
      },
      "outputs": [
        {
          "output_type": "execute_result",
          "data": {
            "text/plain": [
              "Text(0.5, 1.0, 'COm')"
            ]
          },
          "metadata": {},
          "execution_count": 26
        },
        {
          "output_type": "display_data",
          "data": {
            "text/plain": [
              "<Figure size 1440x1440 with 1 Axes>"
            ],
            "image/png": "[encoded data removed]"
          },
          "metadata": {}
        }
      ],
      "source": [
        "\n",
        "\n",
        "count = df['Additional_Info'].value_counts()\n",
        "count\n",
        "#Turn additional info to int to plot it in pie\n",
        "plt.figure(figsize=(20,20))\n",
        "ax = plt.pie(count, labels=df['Additional_Info'].unique(), autopct='%1.1f%%')\n",
        "plt.title('COm')\n",
        "#This shows the percentage of different additional info, Most of it is no ino so it would be better to remove it before making out model"
      ]
    },
    {
      "cell_type": "code",
      "execution_count": 27,
      "metadata": {
        "colab": {
          "base_uri": "https://localhost:8080/",
          "height": 534
        },
        "id": "KQpoF9qSIIAE",
        "outputId": "20367d61-a337-4aa6-e389-97e8749836c0"
      },
      "outputs": [
        {
          "output_type": "display_data",
          "data": {
            "text/plain": [
              "<Figure size 3600x1440 with 1 Axes>"
            ],
            "image/png": "[encoded data removed]"
          },
          "metadata": {
            "needs_background": "light"
          }
        }
      ],
      "source": [
        "\n",
        "plt.figure(figsize=(50,20))\n",
        "ax2 = sns.countplot(data=df, x='Additional_Info')\n",
        "#This shows the percentage of different additional info, Most of it is no ino so it would be better to remove it before making out model\n"
      ]
    },
    {
      "cell_type": "code",
      "execution_count": 28,
      "metadata": {
        "colab": {
          "base_uri": "https://localhost:8080/"
        },
        "id": "Cbj0SBnXWWNM",
        "outputId": "09607888-2e20-4b46-9557-a440567b8464"
      },
      "outputs": [
        {
          "output_type": "execute_result",
          "data": {
            "text/plain": [
              "128"
            ]
          },
          "metadata": {},
          "execution_count": 28
        }
      ],
      "source": [
        "df['Route'].nunique() #128 unique routes"
      ]
    },
    {
      "cell_type": "code",
      "execution_count": 29,
      "metadata": {
        "colab": {
          "base_uri": "https://localhost:8080/",
          "height": 588
        },
        "id": "OQkEdM67YO5y",
        "outputId": "9ea9d9c7-4c29-4556-bf23-021120a54e64"
      },
      "outputs": [
        {
          "output_type": "stream",
          "name": "stderr",
          "text": [
            "/usr/local/lib/python3.7/dist-packages/seaborn/_decorators.py:43: FutureWarning: Pass the following variable as a keyword arg: x. From version 0.12, the only valid positional argument will be `data`, and passing other arguments without an explicit keyword will result in an error or misinterpretation.\n",
            "  FutureWarning\n"
          ]
        },
        {
          "output_type": "execute_result",
          "data": {
            "text/plain": [
              "Text(0.5, 1.0, 'Comparisson of stops using barplot')"
            ]
          },
          "metadata": {},
          "execution_count": 29
        },
        {
          "output_type": "display_data",
          "data": {
            "text/plain": [
              "<Figure size 720x576 with 1 Axes>"
            ],
            "image/png": "[encoded data removed]"
          },
          "metadata": {
            "needs_background": "light"
          }
        }
      ],
      "source": [
        "# Lets see total stops using countplot\n",
        "plt.figure(figsize=(10,8))\n",
        "sns.countplot(df['Total_Stops'], order=df['Total_Stops'].value_counts().index, palette='crest') \n",
        "#Most of the flights had one stop\n",
        "plt.title('Comparisson of stops using barplot') \n",
        "\n",
        "#From this plot we can see that most flights had one stop"
      ]
    },
    {
      "cell_type": "code",
      "execution_count": 30,
      "metadata": {
        "colab": {
          "base_uri": "https://localhost:8080/",
          "height": 717
        },
        "id": "BRwijPFxZDlz",
        "outputId": "3de4acb0-0e4c-4db1-9385-2d41ae34a889"
      },
      "outputs": [
        {
          "output_type": "execute_result",
          "data": {
            "text/plain": [
              "Text(0.5, 1.0, 'Comparisson of stops using piechart')"
            ]
          },
          "metadata": {},
          "execution_count": 30
        },
        {
          "output_type": "display_data",
          "data": {
            "text/plain": [
              "<Figure size 1440x864 with 1 Axes>"
            ],
            "image/png": "[encoded data removed]"
          },
          "metadata": {}
        }
      ],
      "source": [
        "#Lets check pie plot to know the exact percentage\n",
        "plt.figure(figsize=(20,12))\n",
        "tot = df['Total_Stops'].value_counts()\n",
        "p = plt.pie(tot, labels=df['Total_Stops'].unique(), autopct='%1.1f%%')\n",
        "plt.title('Comparisson of stops using piechart')"
      ]
    },
    {
      "cell_type": "code",
      "execution_count": 31,
      "metadata": {
        "colab": {
          "base_uri": "https://localhost:8080/",
          "height": 353
        },
        "id": "GovouVeBaR_U",
        "outputId": "770f61f8-e920-4e2b-f9da-151d164a691c"
      },
      "outputs": [
        {
          "output_type": "execute_result",
          "data": {
            "text/plain": [
              "<matplotlib.axes._subplots.AxesSubplot at 0x7fa54068bad0>"
            ]
          },
          "metadata": {},
          "execution_count": 31
        },
        {
          "output_type": "display_data",
          "data": {
            "text/plain": [
              "<Figure size 576x360 with 1 Axes>"
            ],
            "image/png": "[encoded data removed]"
          },
          "metadata": {
            "needs_background": "light"
          }
        }
      ],
      "source": [
        "plt.figure(figsize=(8,5))\n",
        "order = df.groupby(['Total_Stops'])['Price'].mean().sort_values(ascending=False).index\n",
        "sns.barplot(data=df, x='Total_Stops', y='Price', order=order, palette='crest')\n",
        "\n",
        "#4 stop has highest price"
      ]
    },
    {
      "cell_type": "code",
      "execution_count": 32,
      "metadata": {
        "colab": {
          "base_uri": "https://localhost:8080/",
          "height": 464
        },
        "id": "QUMg05mGabTK",
        "outputId": "d5120964-f1ec-42be-cbc2-c6cc340aae10"
      },
      "outputs": [
        {
          "output_type": "execute_result",
          "data": {
            "text/plain": [
              "(-0.5, 10.5)"
            ]
          },
          "metadata": {},
          "execution_count": 32
        },
        {
          "output_type": "display_data",
          "data": {
            "text/plain": [
              "<Figure size 1800x576 with 1 Axes>"
            ],
            "image/png": "[encoded data removed]"
          },
          "metadata": {
            "needs_background": "light"
          }
        }
      ],
      "source": [
        "#Lets find top 10 routes\n",
        "\n",
        "plt.figure(figsize=(25,8))\n",
        "am =sns.countplot(data=df, x='Route', order=df['Route'].value_counts().index, palette='Blues_r')\n",
        "am.set_xlim(-0.5,10.5)\n",
        "\n",
        "#From here we see that the highest no. is DEL? BOM? COK?"
      ]
    },
    {
      "cell_type": "code",
      "execution_count": 33,
      "metadata": {
        "colab": {
          "base_uri": "https://localhost:8080/",
          "height": 459
        },
        "id": "5palz0cy32dK",
        "outputId": "ab0f43f9-2b4e-4d03-86a9-c9750b8805de"
      },
      "outputs": [
        {
          "output_type": "execute_result",
          "data": {
            "text/plain": [
              "(-0.5, 10.5)"
            ]
          },
          "metadata": {},
          "execution_count": 33
        },
        {
          "output_type": "display_data",
          "data": {
            "text/plain": [
              "<Figure size 1800x576 with 1 Axes>"
            ],
            "image/png": "[encoded data removed]"
          },
          "metadata": {
            "needs_background": "light"
          }
        }
      ],
      "source": [
        "\n",
        "plt.figure(figsize=(25,8))\n",
        "order = df.groupby(['Route'])['Price'].mean().sort_values(ascending=False).index\n",
        "am =sns.barplot(data=df, x='Route',y='Price', order=order, palette='Blues_r')\n",
        "am.set_xlim(-0.5,10.5)\n",
        "\n",
        "#The BOM? DED? DEL? HYD? Route has highest price rate"
      ]
    },
    {
      "cell_type": "code",
      "execution_count": 34,
      "metadata": {
        "colab": {
          "base_uri": "https://localhost:8080/"
        },
        "id": "Q5QITEsNa8Kr",
        "outputId": "d578e53c-c9b7-4ffc-e2eb-5e3347200100"
      },
      "outputs": [
        {
          "output_type": "execute_result",
          "data": {
            "text/plain": [
              "1"
            ]
          },
          "metadata": {},
          "execution_count": 34
        }
      ],
      "source": [
        "df['year'] = pd.to_datetime(df['Date_of_Journey']).dt.year\n",
        "df['year'].nunique() # All data is in 2019"
      ]
    },
    {
      "cell_type": "code",
      "execution_count": 35,
      "metadata": {
        "id": "I7tEHkCceO_d"
      },
      "outputs": [],
      "source": [
        "df['month'] = pd.to_datetime(df['Date_of_Journey']).dt.month\n",
        "df['month'].nunique() # 7 months\n",
        "mon = df['month']"
      ]
    },
    {
      "cell_type": "code",
      "execution_count": 36,
      "metadata": {
        "colab": {
          "base_uri": "https://localhost:8080/",
          "height": 587
        },
        "id": "2Uex-gAMesY5",
        "outputId": "3c6a9cb8-29a0-468e-f7ae-b430d2c995ce"
      },
      "outputs": [
        {
          "output_type": "stream",
          "name": "stderr",
          "text": [
            "/usr/local/lib/python3.7/dist-packages/seaborn/_decorators.py:43: FutureWarning: Pass the following variable as a keyword arg: x. From version 0.12, the only valid positional argument will be `data`, and passing other arguments without an explicit keyword will result in an error or misinterpretation.\n",
            "  FutureWarning\n"
          ]
        },
        {
          "output_type": "execute_result",
          "data": {
            "text/plain": [
              "Text(0.5, 1.0, 'Months that has most flights')"
            ]
          },
          "metadata": {},
          "execution_count": 36
        },
        {
          "output_type": "display_data",
          "data": {
            "text/plain": [
              "<Figure size 864x576 with 1 Axes>"
            ],
            "image/png": "[encoded data removed]"
          },
          "metadata": {
            "needs_background": "light"
          }
        }
      ],
      "source": [
        " # LETS SEE WHICH MONTH HAS MOST FLIGHTS\n",
        "\n",
        "plt.figure(figsize=(12,8))\n",
        "month = sns.countplot(df['month'], order=df['month'].value_counts().index, palette='bone_r')\n",
        "month.set_title(\"Months that has most flights\")\n",
        "\n",
        "#June has the most flights\n",
        "#April doesn't have much flights, maybe they can start putting offers on april so can people reserve more flights on april, And on June the prices go back to original prices."
      ]
    },
    {
      "cell_type": "code",
      "execution_count": 37,
      "metadata": {
        "colab": {
          "base_uri": "https://localhost:8080/",
          "height": 444
        },
        "id": "y0JcRn3pDF4c",
        "outputId": "d2973e7d-5467-4948-9385-aa982e24f362"
      },
      "outputs": [
        {
          "output_type": "stream",
          "name": "stderr",
          "text": [
            "/usr/local/lib/python3.7/dist-packages/seaborn/_decorators.py:43: FutureWarning: Pass the following variables as keyword args: x, y. From version 0.12, the only valid positional argument will be `data`, and passing other arguments without an explicit keyword will result in an error or misinterpretation.\n",
            "  FutureWarning\n"
          ]
        },
        {
          "output_type": "display_data",
          "data": {
            "text/plain": [
              "<Figure size 720x432 with 1 Axes>"
            ],
            "image/png": "[encoded data removed]"
          },
          "metadata": {
            "needs_background": "light"
          }
        }
      ],
      "source": [
        "#Compare months to prices\n",
        "plt.figure(figsize=(10,6))\n",
        "order = df.groupby(['month'])['Price'].mean().sort_values(ascending = False).index\n",
        "f = sns.barplot(df['month'],df['Price'], order=order, palette='crest')\n",
        "\n",
        "#May has highest prices"
      ]
    },
    {
      "cell_type": "code",
      "source": [
        "\n",
        "plt.figure(figsize=(25,20))\n",
        "plt.subplot(2,2,1)\n",
        "order = df.groupby(['month'])['Price'].mean().sort_values(ascending = False).index\n",
        "f = sns.barplot(df['month'],df['Price'], order=order, palette='crest')\n",
        "f.set_title(\"Months that has highest price\")\n",
        "\n",
        "plt.subplot(2,2,2)\n",
        "\n",
        "month = sns.countplot(df['month'], order=df['month'].value_counts().index, palette='crest')\n",
        "month.set_title(\"Months that has most flights\")\n"
      ],
      "metadata": {
        "colab": {
          "base_uri": "https://localhost:8080/",
          "height": 622
        },
        "id": "VPuHBmbJQ3OZ",
        "outputId": "ffab90bd-13f0-463c-c452-79f9e06f3a26"
      },
      "execution_count": 38,
      "outputs": [
        {
          "output_type": "stream",
          "name": "stderr",
          "text": [
            "/usr/local/lib/python3.7/dist-packages/seaborn/_decorators.py:43: FutureWarning: Pass the following variables as keyword args: x, y. From version 0.12, the only valid positional argument will be `data`, and passing other arguments without an explicit keyword will result in an error or misinterpretation.\n",
            "  FutureWarning\n",
            "/usr/local/lib/python3.7/dist-packages/seaborn/_decorators.py:43: FutureWarning: Pass the following variable as a keyword arg: x. From version 0.12, the only valid positional argument will be `data`, and passing other arguments without an explicit keyword will result in an error or misinterpretation.\n",
            "  FutureWarning\n"
          ]
        },
        {
          "output_type": "execute_result",
          "data": {
            "text/plain": [
              "Text(0.5, 1.0, 'Months that has most flights')"
            ]
          },
          "metadata": {},
          "execution_count": 38
        },
        {
          "output_type": "display_data",
          "data": {
            "text/plain": [
              "<Figure size 1800x1440 with 2 Axes>"
            ],
            "image/png": "[encoded data removed]"
          },
          "metadata": {
            "needs_background": "light"
          }
        }
      ]
    },
    {
      "cell_type": "code",
      "execution_count": 39,
      "metadata": {
        "id": "gHtZCWQSe4Lq"
      },
      "outputs": [],
      "source": [
        "\n",
        "from sklearn.preprocessing import LabelEncoder\n",
        "\n",
        "le = LabelEncoder()\n",
        "\n",
        "\n",
        "data = df.apply(le.fit_transform) #Transform all strings to numbers\n",
        "\n"
      ]
    },
    {
      "cell_type": "code",
      "source": [
        "plt.scatter(data['Total_Stops'],data['Price'])"
      ],
      "metadata": {
        "colab": {
          "base_uri": "https://localhost:8080/",
          "height": 283
        },
        "id": "kV39Dn0-M4PJ",
        "outputId": "974c2888-fe23-466d-9e2f-95d429f0aba4"
      },
      "execution_count": 40,
      "outputs": [
        {
          "output_type": "execute_result",
          "data": {
            "text/plain": [
              "<matplotlib.collections.PathCollection at 0x7fa53fe79450>"
            ]
          },
          "metadata": {},
          "execution_count": 40
        },
        {
          "output_type": "display_data",
          "data": {
            "text/plain": [
              "<Figure size 432x288 with 1 Axes>"
            ],
            "image/png": "[encoded data removed]"
          },
          "metadata": {
            "needs_background": "light"
          }
        }
      ]
    },
    {
      "cell_type": "code",
      "execution_count": 41,
      "metadata": {
        "colab": {
          "base_uri": "https://localhost:8080/",
          "height": 685
        },
        "id": "tzoppOeZgPIq",
        "outputId": "c7728b20-7384-4017-94c2-2d6effbf3460"
      },
      "outputs": [
        {
          "output_type": "execute_result",
          "data": {
            "text/plain": [
              "<matplotlib.axes._subplots.AxesSubplot at 0x7fa540ab7f90>"
            ]
          },
          "metadata": {},
          "execution_count": 41
        },
        {
          "output_type": "display_data",
          "data": {
            "text/plain": [
              "<Figure size 720x720 with 2 Axes>"
            ],
            "image/png": "[encoded data removed]"
          },
          "metadata": {
            "needs_background": "light"
          }
        }
      ],
      "source": [
        "#all flights are on 2019 so we will drop year feature \n",
        "data = data.drop('year',axis=1)\n",
        "\n",
        "\n",
        "fig = plt.figure(figsize = (10,10))\n",
        "sns.heatmap(data.corr(), annot = True)"
      ]
    },
    {
      "cell_type": "markdown",
      "metadata": {
        "id": "_zAFWo3E0tLg"
      },
      "source": [
        "#Conclusion\n",
        "The data set represents indian airlines and prices\n",
        "\n",
        "-Jetair ways has highest number of flights \n",
        "\n",
        "-Jet airways has highest price although highest number of flights, We can deduce that it has highest service and probably the most popular one in india\n",
        "\n",
        "-July had highest number of flights\n",
        "\n",
        "-June had highest price in flights\n",
        "\n",
        "-highest count of route is DEL? BOM? COK?\n",
        "\n",
        "-The route that had mighest prices is BOM? DED? DEL? HYD?\n",
        "\n",
        "-53.8 percent of flights was non stop\n",
        "\n",
        "-Delhi was the highest price source\n",
        "\n",
        "-The highest price destination was cochin\n",
        "\n",
        "\n",
        "-Highest prices were on flights that had one stop\n",
        "\n",
        "-Now imagine someone picking June , the most expensive route ,The most expensive source(Delhi), the most expensive destination(New Delhi) and reserving a onestop ticket, How much would he pay? probably alot, that is why we are going to predict the prices now :)"
      ]
    },
    {
      "cell_type": "markdown",
      "metadata": {
        "id": "VtxNZymUedGG"
      },
      "source": [
        "#Linear Model"
      ]
    },
    {
      "cell_type": "code",
      "source": [
        "data"
      ],
      "metadata": {
        "colab": {
          "base_uri": "https://localhost:8080/",
          "height": 423
        },
        "id": "VQnSbdj-gmVZ",
        "outputId": "6c0bc191-80fb-4f3b-c53b-0b9780b559df"
      },
      "execution_count": 42,
      "outputs": [
        {
          "output_type": "execute_result",
          "data": {
            "text/plain": [
              "       Airline  Date_of_Journey  Source  Destination  Route  Dep_Time  \\\n",
              "0            3               24       0            5     18       211   \n",
              "1            1                6       3            0     84        31   \n",
              "2            4               43       2            1    118        70   \n",
              "3            3               10       3            0     91       164   \n",
              "4            3                0       0            5     29       149   \n",
              "...        ...              ...     ...          ...    ...       ...   \n",
              "10678        0               41       3            0     64       183   \n",
              "10679        1               29       3            0     64       193   \n",
              "10680        4               29       0            2     18        58   \n",
              "10681       10                0       0            5     18        92   \n",
              "10682        1               42       2            1    108        85   \n",
              "\n",
              "       Arrival_Time  Duration  Total_Stops  Additional_Info  Price  month  \n",
              "0               233       240            4                8     65      1  \n",
              "1               906       336            1                8    669      0  \n",
              "2               413       106            1                8   1537      5  \n",
              "3              1324       311            0                8    389      6  \n",
              "4              1237       303            0                8   1457      0  \n",
              "...             ...       ...          ...              ...    ...    ...  \n",
              "10678          1259       236            4                8     81      5  \n",
              "10679          1305       237            4                8     84      2  \n",
              "10680           824       280            4                8    604      2  \n",
              "10681           938       238            4                8   1377      0  \n",
              "10682          1124       347            1                8   1262      5  \n",
              "\n",
              "[10462 rows x 12 columns]"
            ],
            "text/html": [
              "\n",
              "  <div id=\"df-081fe5de-93b7-4866-a8f8-2bb7785aa31d\">\n",
              "    <div class=\"colab-df-container\">\n",
              "      <div>\n",
              "<style scoped>\n",
              "    .dataframe tbody tr th:only-of-type {\n",
              "        vertical-align: middle;\n",
              "    }\n",
              "\n",
              "    .dataframe tbody tr th {\n",
              "        vertical-align: top;\n",
              "    }\n",
              "\n",
              "    .dataframe thead th {\n",
              "        text-align: right;\n",
              "    }\n",
              "</style>\n",
              "<table border=\"1\" class=\"dataframe\">\n",
              "  <thead>\n",
              "    <tr style=\"text-align: right;\">\n",
              "      <th></th>\n",
              "      <th>Airline</th>\n",
              "      <th>Date_of_Journey</th>\n",
              "      <th>Source</th>\n",
              "      <th>Destination</th>\n",
              "      <th>Route</th>\n",
              "      <th>Dep_Time</th>\n",
              "      <th>Arrival_Time</th>\n",
              "      <th>Duration</th>\n",
              "      <th>Total_Stops</th>\n",
              "      <th>Additional_Info</th>\n",
              "      <th>Price</th>\n",
              "      <th>month</th>\n",
              "    </tr>\n",
              "  </thead>\n",
              "  <tbody>\n",
              "    <tr>\n",
              "      <th>0</th>\n",
              "      <td>3</td>\n",
              "      <td>24</td>\n",
              "      <td>0</td>\n",
              "      <td>5</td>\n",
              "      <td>18</td>\n",
              "      <td>211</td>\n",
              "      <td>233</td>\n",
              "      <td>240</td>\n",
              "      <td>4</td>\n",
              "      <td>8</td>\n",
              "      <td>65</td>\n",
              "      <td>1</td>\n",
              "    </tr>\n",
              "    <tr>\n",
              "      <th>1</th>\n",
              "      <td>1</td>\n",
              "      <td>6</td>\n",
              "      <td>3</td>\n",
              "      <td>0</td>\n",
              "      <td>84</td>\n",
              "      <td>31</td>\n",
              "      <td>906</td>\n",
              "      <td>336</td>\n",
              "      <td>1</td>\n",
              "      <td>8</td>\n",
              "      <td>669</td>\n",
              "      <td>0</td>\n",
              "    </tr>\n",
              "    <tr>\n",
              "      <th>2</th>\n",
              "      <td>4</td>\n",
              "      <td>43</td>\n",
              "      <td>2</td>\n",
              "      <td>1</td>\n",
              "      <td>118</td>\n",
              "      <td>70</td>\n",
              "      <td>413</td>\n",
              "      <td>106</td>\n",
              "      <td>1</td>\n",
              "      <td>8</td>\n",
              "      <td>1537</td>\n",
              "      <td>5</td>\n",
              "    </tr>\n",
              "    <tr>\n",
              "      <th>3</th>\n",
              "      <td>3</td>\n",
              "      <td>10</td>\n",
              "      <td>3</td>\n",
              "      <td>0</td>\n",
              "      <td>91</td>\n",
              "      <td>164</td>\n",
              "      <td>1324</td>\n",
              "      <td>311</td>\n",
              "      <td>0</td>\n",
              "      <td>8</td>\n",
              "      <td>389</td>\n",
              "      <td>6</td>\n",
              "    </tr>\n",
              "    <tr>\n",
              "      <th>4</th>\n",
              "      <td>3</td>\n",
              "      <td>0</td>\n",
              "      <td>0</td>\n",
              "      <td>5</td>\n",
              "      <td>29</td>\n",
              "      <td>149</td>\n",
              "      <td>1237</td>\n",
              "      <td>303</td>\n",
              "      <td>0</td>\n",
              "      <td>8</td>\n",
              "      <td>1457</td>\n",
              "      <td>0</td>\n",
              "    </tr>\n",
              "    <tr>\n",
              "      <th>...</th>\n",
              "      <td>...</td>\n",
              "      <td>...</td>\n",
              "      <td>...</td>\n",
              "      <td>...</td>\n",
              "      <td>...</td>\n",
              "      <td>...</td>\n",
              "      <td>...</td>\n",
              "      <td>...</td>\n",
              "      <td>...</td>\n",
              "      <td>...</td>\n",
              "      <td>...</td>\n",
              "      <td>...</td>\n",
              "    </tr>\n",
              "    <tr>\n",
              "      <th>10678</th>\n",
              "      <td>0</td>\n",
              "      <td>41</td>\n",
              "      <td>3</td>\n",
              "      <td>0</td>\n",
              "      <td>64</td>\n",
              "      <td>183</td>\n",
              "      <td>1259</td>\n",
              "      <td>236</td>\n",
              "      <td>4</td>\n",
              "      <td>8</td>\n",
              "      <td>81</td>\n",
              "      <td>5</td>\n",
              "    </tr>\n",
              "    <tr>\n",
              "      <th>10679</th>\n",
              "      <td>1</td>\n",
              "      <td>29</td>\n",
              "      <td>3</td>\n",
              "      <td>0</td>\n",
              "      <td>64</td>\n",
              "      <td>193</td>\n",
              "      <td>1305</td>\n",
              "      <td>237</td>\n",
              "      <td>4</td>\n",
              "      <td>8</td>\n",
              "      <td>84</td>\n",
              "      <td>2</td>\n",
              "    </tr>\n",
              "    <tr>\n",
              "      <th>10680</th>\n",
              "      <td>4</td>\n",
              "      <td>29</td>\n",
              "      <td>0</td>\n",
              "      <td>2</td>\n",
              "      <td>18</td>\n",
              "      <td>58</td>\n",
              "      <td>824</td>\n",
              "      <td>280</td>\n",
              "      <td>4</td>\n",
              "      <td>8</td>\n",
              "      <td>604</td>\n",
              "      <td>2</td>\n",
              "    </tr>\n",
              "    <tr>\n",
              "      <th>10681</th>\n",
              "      <td>10</td>\n",
              "      <td>0</td>\n",
              "      <td>0</td>\n",
              "      <td>5</td>\n",
              "      <td>18</td>\n",
              "      <td>92</td>\n",
              "      <td>938</td>\n",
              "      <td>238</td>\n",
              "      <td>4</td>\n",
              "      <td>8</td>\n",
              "      <td>1377</td>\n",
              "      <td>0</td>\n",
              "    </tr>\n",
              "    <tr>\n",
              "      <th>10682</th>\n",
              "      <td>1</td>\n",
              "      <td>42</td>\n",
              "      <td>2</td>\n",
              "      <td>1</td>\n",
              "      <td>108</td>\n",
              "      <td>85</td>\n",
              "      <td>1124</td>\n",
              "      <td>347</td>\n",
              "      <td>1</td>\n",
              "      <td>8</td>\n",
              "      <td>1262</td>\n",
              "      <td>5</td>\n",
              "    </tr>\n",
              "  </tbody>\n",
              "</table>\n",
              "<p>10462 rows × 12 columns</p>\n",
              "</div>\n",
              "      <button class=\"colab-df-convert\" onclick=\"convertToInteractive('df-081fe5de-93b7-4866-a8f8-2bb7785aa31d')\"\n",
              "              title=\"Convert this dataframe to an interactive table.\"\n",
              "              style=\"display:none;\">\n",
              "        \n",
              "  <svg xmlns=\"http://www.w3.org/2000/svg\" height=\"24px\"viewBox=\"0 0 24 24\"\n",
              "       width=\"24px\">\n",
              "    <path d=\"M0 0h24v24H0V0z\" fill=\"none\"/>\n",
              "    <path d=\"M18.56 5.44l.94 2.06.94-2.06 2.06-.94-2.06-.94-.94-2.06-.94 2.06-2.06.94zm-11 1L8.5 8.5l.94-2.06 2.06-.94-2.06-.94L8.5 2.5l-.94 2.06-2.06.94zm10 10l.94 2.06.94-2.06 2.06-.94-2.06-.94-.94-2.06-.94 2.06-2.06.94z\"/><path d=\"M17.41 7.96l-1.37-1.37c-.4-.4-.92-.59-1.43-.59-.52 0-1.04.2-1.43.59L10.3 9.45l-7.72 7.72c-.78.78-.78 2.05 0 2.83L4 21.41c.39.39.9.59 1.41.59.51 0 1.02-.2 1.41-.59l7.78-7.78 2.81-2.81c.8-.78.8-2.07 0-2.86zM5.41 20L4 18.59l7.72-7.72 1.47 1.35L5.41 20z\"/>\n",
              "  </svg>\n",
              "      </button>\n",
              "      \n",
              "  <style>\n",
              "    .colab-df-container {\n",
              "      display:flex;\n",
              "      flex-wrap:wrap;\n",
              "      gap: 12px;\n",
              "    }\n",
              "\n",
              "    .colab-df-convert {\n",
              "      background-color: #E8F0FE;\n",
              "      border: none;\n",
              "      border-radius: 50%;\n",
              "      cursor: pointer;\n",
              "      display: none;\n",
              "      fill: #1967D2;\n",
              "      height: 32px;\n",
              "      padding: 0 0 0 0;\n",
              "      width: 32px;\n",
              "    }\n",
              "\n",
              "    .colab-df-convert:hover {\n",
              "      background-color: #E2EBFA;\n",
              "      box-shadow: 0px 1px 2px rgba(60, 64, 67, 0.3), 0px 1px 3px 1px rgba(60, 64, 67, 0.15);\n",
              "      fill: #174EA6;\n",
              "    }\n",
              "\n",
              "    [theme=dark] .colab-df-convert {\n",
              "      background-color: #3B4455;\n",
              "      fill: #D2E3FC;\n",
              "    }\n",
              "\n",
              "    [theme=dark] .colab-df-convert:hover {\n",
              "      background-color: #434B5C;\n",
              "      box-shadow: 0px 1px 3px 1px rgba(0, 0, 0, 0.15);\n",
              "      filter: drop-shadow(0px 1px 2px rgba(0, 0, 0, 0.3));\n",
              "      fill: #FFFFFF;\n",
              "    }\n",
              "  </style>\n",
              "\n",
              "      <script>\n",
              "        const buttonEl =\n",
              "          document.querySelector('#df-081fe5de-93b7-4866-a8f8-2bb7785aa31d button.colab-df-convert');\n",
              "        buttonEl.style.display =\n",
              "          google.colab.kernel.accessAllowed ? 'block' : 'none';\n",
              "\n",
              "        async function convertToInteractive(key) {\n",
              "          const element = document.querySelector('#df-081fe5de-93b7-4866-a8f8-2bb7785aa31d');\n",
              "          const dataTable =\n",
              "            await google.colab.kernel.invokeFunction('convertToInteractive',\n",
              "                                                     [key], {});\n",
              "          if (!dataTable) return;\n",
              "\n",
              "          const docLinkHtml = 'Like what you see? Visit the ' +\n",
              "            '<a target=\"_blank\" href=https://colab.research.google.com/notebooks/data_table.ipynb>data table notebook</a>'\n",
              "            + ' to learn more about interactive tables.';\n",
              "          element.innerHTML = '';\n",
              "          dataTable['output_type'] = 'display_data';\n",
              "          await google.colab.output.renderOutput(dataTable, element);\n",
              "          const docLink = document.createElement('div');\n",
              "          docLink.innerHTML = docLinkHtml;\n",
              "          element.appendChild(docLink);\n",
              "        }\n",
              "      </script>\n",
              "    </div>\n",
              "  </div>\n",
              "  "
            ]
          },
          "metadata": {},
          "execution_count": 42
        }
      ]
    },
    {
      "cell_type": "code",
      "execution_count": 43,
      "metadata": {
        "id": "7x2sclgAeiGC"
      },
      "outputs": [],
      "source": [
        "from sklearn import linear_model\n",
        "from sklearn.metrics import mean_squared_error , r2_score\n",
        "from sklearn.model_selection import train_test_split\n",
        "\n",
        "\n",
        "x=data.drop('Price',axis=1).values\n",
        "y=data['Price'].values\n",
        "\n",
        "x_train, x_test, y_train, y_test = train_test_split(x,y, test_size = 0.33, random_state = 32)"
      ]
    },
    {
      "cell_type": "code",
      "execution_count": 44,
      "metadata": {
        "id": "wu3-RTgv2LVZ"
      },
      "outputs": [],
      "source": [
        "lin_model = linear_model.LinearRegression()\n",
        "lin_model.fit(x_train,y_train)\n",
        "y_pred = lin_model.predict(x_test)\n",
        "\n",
        "#Model is done"
      ]
    },
    {
      "cell_type": "code",
      "execution_count": 45,
      "metadata": {
        "colab": {
          "base_uri": "https://localhost:8080/"
        },
        "id": "JMhqakkz3exv",
        "outputId": "89c1eca9-dd47-4365-c15b-c09f03a00a49"
      },
      "outputs": [
        {
          "output_type": "stream",
          "name": "stdout",
          "text": [
            "MSE : 183213.04370684165\n",
            "square root of MSE : 428.03392821929623\n",
            "______________________________________________________________________\n",
            "Accuracy : 42.24675227706358\n"
          ]
        }
      ],
      "source": [
        "#Check mean squared error\n",
        "print('MSE :', mean_squared_error(y_test,y_pred))\n",
        "print('square root of MSE :', np.sqrt(mean_squared_error(y_test,y_pred)))\n",
        "\n",
        "print('______________________________________________________________________')\n",
        "\n",
        "print('Accuracy :', r2_score(y_test,y_pred)*100) #0.42 percent"
      ]
    },
    {
      "cell_type": "code",
      "source": [
        "#Same steps but with kFolds and grid search\n",
        "from sklearn.model_selection import KFold, cross_val_score\n",
        "\n",
        "cv = KFold(n_splits=5, random_state= 2485, shuffle=True)\n",
        "\n",
        "scores = cross_val_score(lin_model, x,y, scoring='neg_mean_squared_error', cv=cv)\n",
        "\n",
        "print('mean_squared_error', np.mean(np.absolute(scores)))\n"
      ],
      "metadata": {
        "colab": {
          "base_uri": "https://localhost:8080/"
        },
        "id": "SlEeiLAGmqAE",
        "outputId": "54a6f9de-e3e5-4d52-e3dc-6f74f63d8668"
      },
      "execution_count": 46,
      "outputs": [
        {
          "output_type": "stream",
          "name": "stdout",
          "text": [
            "mean_squared_error 179371.3120177327\n"
          ]
        }
      ]
    },
    {
      "cell_type": "markdown",
      "metadata": {
        "id": "pqmZItQDFZUW"
      },
      "source": [
        "#Conclusion\n",
        "\n",
        "By using linear model, we got a very large MSE and very low accuracy(r_2 score) of 42 percent"
      ]
    },
    {
      "cell_type": "markdown",
      "metadata": {
        "id": "MmyVLQimFpkY"
      },
      "source": [
        "#Polynomial model"
      ]
    },
    {
      "cell_type": "code",
      "execution_count": 47,
      "metadata": {
        "colab": {
          "base_uri": "https://localhost:8080/"
        },
        "id": "awpFF16RFAC7",
        "outputId": "1585386d-8bf0-4811-f98a-d155022f2b88"
      },
      "outputs": [
        {
          "output_type": "stream",
          "name": "stdout",
          "text": [
            "MSE : 85272.93270520293\n",
            "square root of MSE : 292.01529532749294\n",
            "______________________________________________________________________\n",
            "Accuracy : 73.86842056768548\n"
          ]
        }
      ],
      "source": [
        "from sklearn.preprocessing import PolynomialFeatures\n",
        "import numpy as np\n",
        "\n",
        "poly_reg = PolynomialFeatures(degree = 3)\n",
        "x_poly = poly_reg.fit_transform(x)\n",
        "\n",
        "x_train, x_test, y_train, y_test = train_test_split(x_poly, y, test_size = 0.33, random_state = 1)\n",
        "LR_model_2 = linear_model.LinearRegression()\n",
        "LR_model_2.fit(x_train,y_train)\n",
        "\n",
        "y_pred_2 = LR_model_2.predict(x_test)\n",
        "\n",
        "print('MSE :', mean_squared_error(y_test,y_pred_2))\n",
        "print('square root of MSE :', np.sqrt(mean_squared_error(y_test,y_pred_2)))\n",
        "\n",
        "print('______________________________________________________________________')\n",
        "\n",
        "print('Accuracy :', r2_score(y_test,y_pred_2)*100)\n",
        "\n"
      ]
    },
    {
      "cell_type": "code",
      "source": [
        "#pip install mlxtend --upgrade"
      ],
      "metadata": {
        "id": "LhObGsUADiCH"
      },
      "execution_count": 48,
      "outputs": []
    },
    {
      "cell_type": "code",
      "source": [
        "\n",
        "from mlxtend.evaluate import bias_variance_decomp\n",
        "\n",
        "avg_expected_loss, avg_bias, avg_var = bias_variance_decomp(LR_model_2, x_train, y_train, x_test, y_test, loss='mse', random_seed=32)\n",
        "\n",
        "print('avg loss :', avg_expected_loss)\n",
        "print('avg bias :', avg_bias)\n",
        "print('avg var :', avg_var)"
      ],
      "metadata": {
        "colab": {
          "base_uri": "https://localhost:8080/"
        },
        "id": "3XReFZQ4XZpH",
        "outputId": "a3d722df-ef71-45bc-de57-181f11282bd5"
      },
      "execution_count": 49,
      "outputs": [
        {
          "output_type": "stream",
          "name": "stdout",
          "text": [
            "avg loss : 133616.46851483252\n",
            "avg bias : 90127.79369972226\n",
            "avg var : 43488.674815110295\n"
          ]
        }
      ]
    },
    {
      "cell_type": "code",
      "source": [
        "from sklearn.model_selection import KFold, cross_val_score\n",
        "\n",
        "cv = KFold(n_splits=5, shuffle=True, random_state=32)\n",
        "scores = cross_val_score(LR_model_2, x_poly,y, scoring='neg_mean_squared_error', cv=cv)\n",
        "\n",
        "print('mean_squared_error', np.mean(np.absolute(scores)))\n"
      ],
      "metadata": {
        "id": "9-nHi2FEqy8B",
        "colab": {
          "base_uri": "https://localhost:8080/"
        },
        "outputId": "23830a55-9274-4508-a4d6-744cb8cea328"
      },
      "execution_count": 50,
      "outputs": [
        {
          "output_type": "stream",
          "name": "stdout",
          "text": [
            "mean_squared_error 92984.88110488307\n"
          ]
        }
      ]
    },
    {
      "cell_type": "markdown",
      "metadata": {
        "id": "0zypeeVEJedr"
      },
      "source": [
        "#Conclusion\n",
        "\n",
        "The score is slightly better but still not quite good accuracy or mean squared error"
      ]
    },
    {
      "cell_type": "markdown",
      "metadata": {
        "id": "oAq3H1zJJmrj"
      },
      "source": [
        "#Tree Regression"
      ]
    },
    {
      "cell_type": "code",
      "execution_count": 51,
      "metadata": {
        "id": "wPfj3VT4F_IN",
        "colab": {
          "base_uri": "https://localhost:8080/"
        },
        "outputId": "a1288f0c-7aeb-4864-b39e-9a3d2e83b6a4"
      },
      "outputs": [
        {
          "output_type": "stream",
          "name": "stdout",
          "text": [
            "MSE : 66708.829957204\n",
            "square root of MSE : 258.28052570258563\n",
            "______________________________________________________________________\n",
            "Accuracy : 79.59634656707684\n"
          ]
        }
      ],
      "source": [
        "from sklearn.tree import DecisionTreeRegressor\n",
        "\n",
        "tree_model = DecisionTreeRegressor()\n",
        "x_train, x_test, y_train, y_test = train_test_split(x,y,train_size=0.33, random_state=1)\n",
        "tree_model.fit(x_train, y_train)\n",
        "\n",
        "y_pred_t = tree_model.predict(x_test)\n",
        "\n",
        "print('MSE :', mean_squared_error(y_test,y_pred_t))\n",
        "print('square root of MSE :', np.sqrt(mean_squared_error(y_test,y_pred_t)))\n",
        "\n",
        "print('______________________________________________________________________')\n",
        "\n",
        "print('Accuracy :', r2_score(y_test,y_pred_t)*100) \n"
      ]
    },
    {
      "cell_type": "code",
      "source": [
        "#pip install mlxtend --upgrade\n",
        "from mlxtend.evaluate import bias_variance_decomp\n",
        "\n",
        "avg_expected_loss, avg_bias, avg_var = bias_variance_decomp(tree_model, x_train, y_train, x_test, y_test, loss='mse', random_seed=32)\n",
        "\n",
        "print('avg loss :', avg_expected_loss)\n",
        "print('avg bias :', avg_bias)\n",
        "print('avg var :', avg_var)"
      ],
      "metadata": {
        "id": "xB_E0xtIZN0P",
        "colab": {
          "base_uri": "https://localhost:8080/"
        },
        "outputId": "2e038080-0456-4e71-c9f0-3f9dbaf5b3d0"
      },
      "execution_count": 52,
      "outputs": [
        {
          "output_type": "stream",
          "name": "stdout",
          "text": [
            "avg loss : 81987.44822703832\n",
            "avg bias : 40740.8400338028\n",
            "avg var : 41246.608193235516\n"
          ]
        }
      ]
    },
    {
      "cell_type": "code",
      "source": [
        "from sklearn.model_selection import KFold, cross_val_score\n",
        "\n",
        "cv = KFold(n_splits = 5, shuffle = True, random_state=32)\n",
        "cross_val_score(tree_model, x, y, cv=cv, scoring ='neg_mean_squared_error')\n",
        "\n",
        "print('mean_squared_error', np.mean(np.absolute(scores)))"
      ],
      "metadata": {
        "id": "0yNlgu05IMg0",
        "colab": {
          "base_uri": "https://localhost:8080/"
        },
        "outputId": "8ec5df01-05ed-4014-d989-e17dea419dde"
      },
      "execution_count": 53,
      "outputs": [
        {
          "output_type": "stream",
          "name": "stdout",
          "text": [
            "mean_squared_error 92984.88110488307\n"
          ]
        }
      ]
    },
    {
      "cell_type": "code",
      "source": [
        "columns_name = ['Airline', 'Date_of_Journey', 'Source', 'Destination', 'Route',\n",
        "       'Dep_Time', 'Arrival_Time', 'Duration', 'Total_Stops',\n",
        "       'Additional_Info','month']"
      ],
      "metadata": {
        "id": "5_0Gl6Hhh9mp"
      },
      "execution_count": 54,
      "outputs": []
    },
    {
      "cell_type": "code",
      "source": [
        "importances = tree_model.feature_importances_\n",
        "indices = np.argsort(importances)\n",
        "\n",
        "plt.title('Feature Importances')\n",
        "plt.barh(range(len(indices)), importances[indices], color = 'b', align='center')\n",
        "plt.yticks(range(len(indices)),[columns_name[i] for i in indices ])\n",
        "plt.xlabel('Relative Importance')\n",
        "plt.show()"
      ],
      "metadata": {
        "id": "imdneatUh8o-",
        "colab": {
          "base_uri": "https://localhost:8080/",
          "height": 295
        },
        "outputId": "f0f92f7e-9401-4c34-ee6a-aa55125505e0"
      },
      "execution_count": 55,
      "outputs": [
        {
          "output_type": "display_data",
          "data": {
            "text/plain": [
              "<Figure size 432x288 with 1 Axes>"
            ],
            "image/png": "[encoded data removed]"
          },
          "metadata": {
            "needs_background": "light"
          }
        }
      ]
    },
    {
      "cell_type": "markdown",
      "metadata": {
        "id": "mtX6uOEmLZFp"
      },
      "source": [
        "#Conclusion\n",
        "\n",
        "as you can see, there is a huge improvement in our MSE and accuracy after using tree regression, because we increases complexity of our model"
      ]
    },
    {
      "cell_type": "markdown",
      "source": [
        "#Random forest regression"
      ],
      "metadata": {
        "id": "M6j625f8ZnCa"
      }
    },
    {
      "cell_type": "code",
      "execution_count": 56,
      "metadata": {
        "id": "shHK3lQiKRnO",
        "colab": {
          "base_uri": "https://localhost:8080/"
        },
        "outputId": "16378c71-62c7-444f-bda7-768a601aca0b"
      },
      "outputs": [
        {
          "output_type": "stream",
          "name": "stdout",
          "text": [
            "MSE : 34834.8776975505\n",
            "square root of MSE : 186.64103969264235\n",
            "______________________________________________________________________\n",
            "Accuracy : 89.02370127490076\n"
          ]
        }
      ],
      "source": [
        "from sklearn.ensemble import RandomForestRegressor\n",
        "\n",
        "rand_forest = RandomForestRegressor(random_state=0, max_depth=100, min_samples_split = 10, n_estimators=20)\n",
        "x_train, x_test, y_train, y_test = train_test_split(x,y,test_size=0.333, random_state=32)\n",
        "rand_forest.fit(x_train, y_train)\n",
        "\n",
        "y_pred_r = rand_forest.predict(x_test)\n",
        "\n",
        "print('MSE :', mean_squared_error(y_test,y_pred_r))\n",
        "print('square root of MSE :', np.sqrt(mean_squared_error(y_test,y_pred_r)))\n",
        "\n",
        "print('______________________________________________________________________')\n",
        "\n",
        "print('Accuracy :', r2_score(y_test,y_pred_r)*100) "
      ]
    },
    {
      "cell_type": "code",
      "source": [
        "avg_expected_loss, avg_bias, avg_var = bias_variance_decomp(rand_forest, x_train, y_train, x_test, y_test, loss='mse', random_seed=32)\n",
        "\n",
        "print('avg loss :', avg_expected_loss)\n",
        "print('avg bias :', avg_bias)\n",
        "print('avg var :', avg_var)"
      ],
      "metadata": {
        "id": "fG6IEpZhaiSU",
        "colab": {
          "base_uri": "https://localhost:8080/"
        },
        "outputId": "8f304fd2-fd8e-4ef2-ca7d-2ca4242ff7cc"
      },
      "execution_count": 57,
      "outputs": [
        {
          "output_type": "stream",
          "name": "stdout",
          "text": [
            "avg loss : 40861.50394853125\n",
            "avg bias : 34674.01715401089\n",
            "avg var : 6187.486794520352\n"
          ]
        }
      ]
    },
    {
      "cell_type": "code",
      "source": [
        "from sklearn.model_selection import GridSearchCV\n",
        "\n",
        "\n",
        "parm_grid = { 'n_estimators' : [5,6,8,7,22,10,80,100],\n",
        "              'max_depth' : [5,10,3,100,200,19],\n",
        "             'min_samples_split': [1,2,3,4,5]\n",
        "}\n",
        "\n",
        "RFR = RandomForestRegressor(random_state=0)\n",
        "\n",
        "g_search = GridSearchCV(estimator = RFR, param_grid=parm_grid, cv=5)\n",
        "\n",
        "\n",
        "g_search.fit(x_train,y_train)\n",
        "\n",
        "print(g_search.best_params_)"
      ],
      "metadata": {
        "id": "3hHXzlSvp_Ut",
        "colab": {
          "base_uri": "https://localhost:8080/"
        },
        "outputId": "2340d01e-c18d-4a68-ba3d-712a34597272"
      },
      "execution_count": 58,
      "outputs": [
        {
          "output_type": "stream",
          "name": "stderr",
          "text": [
            "/usr/local/lib/python3.7/dist-packages/sklearn/model_selection/_validation.py:372: FitFailedWarning: \n",
            "240 fits failed out of a total of 1200.\n",
            "The score on these train-test partitions for these parameters will be set to nan.\n",
            "If these failures are not expected, you can try to debug them by setting error_score='raise'.\n",
            "\n",
            "Below are more details about the failures:\n",
            "--------------------------------------------------------------------------------\n",
            "240 fits failed with the following error:\n",
            "Traceback (most recent call last):\n",
            "  File \"/usr/local/lib/python3.7/dist-packages/sklearn/model_selection/_validation.py\", line 680, in _fit_and_score\n",
            "    estimator.fit(X_train, y_train, **fit_params)\n",
            "  File \"/usr/local/lib/python3.7/dist-packages/sklearn/ensemble/_forest.py\", line 467, in fit\n",
            "    for i, t in enumerate(trees)\n",
            "  File \"/usr/local/lib/python3.7/dist-packages/joblib/parallel.py\", line 1043, in __call__\n",
            "    if self.dispatch_one_batch(iterator):\n",
            "  File \"/usr/local/lib/python3.7/dist-packages/joblib/parallel.py\", line 861, in dispatch_one_batch\n",
            "    self._dispatch(tasks)\n",
            "  File \"/usr/local/lib/python3.7/dist-packages/joblib/parallel.py\", line 779, in _dispatch\n",
            "    job = self._backend.apply_async(batch, callback=cb)\n",
            "  File \"/usr/local/lib/python3.7/dist-packages/joblib/_parallel_backends.py\", line 208, in apply_async\n",
            "    result = ImmediateResult(func)\n",
            "  File \"/usr/local/lib/python3.7/dist-packages/joblib/_parallel_backends.py\", line 572, in __init__\n",
            "    self.results = batch()\n",
            "  File \"/usr/local/lib/python3.7/dist-packages/joblib/parallel.py\", line 263, in __call__\n",
            "    for func, args, kwargs in self.items]\n",
            "  File \"/usr/local/lib/python3.7/dist-packages/joblib/parallel.py\", line 263, in <listcomp>\n",
            "    for func, args, kwargs in self.items]\n",
            "  File \"/usr/local/lib/python3.7/dist-packages/sklearn/utils/fixes.py\", line 216, in __call__\n",
            "    return self.function(*args, **kwargs)\n",
            "  File \"/usr/local/lib/python3.7/dist-packages/sklearn/ensemble/_forest.py\", line 185, in _parallel_build_trees\n",
            "    tree.fit(X, y, sample_weight=curr_sample_weight, check_input=False)\n",
            "  File \"/usr/local/lib/python3.7/dist-packages/sklearn/tree/_classes.py\", line 1320, in fit\n",
            "    X_idx_sorted=X_idx_sorted,\n",
            "  File \"/usr/local/lib/python3.7/dist-packages/sklearn/tree/_classes.py\", line 254, in fit\n",
            "    % self.min_samples_split\n",
            "ValueError: min_samples_split must be an integer greater than 1 or a float in (0.0, 1.0]; got the integer 1\n",
            "\n",
            "  warnings.warn(some_fits_failed_message, FitFailedWarning)\n",
            "/usr/local/lib/python3.7/dist-packages/sklearn/model_selection/_search.py:972: UserWarning: One or more of the test scores are non-finite: [       nan        nan        nan        nan        nan        nan\n",
            "        nan        nan 0.77906944 0.78033108 0.78096483 0.78066382\n",
            " 0.78113783 0.78106323 0.78136259 0.78153939 0.7789803  0.78022919\n",
            " 0.78091962 0.78058421 0.78113825 0.78102394 0.78137873 0.78155527\n",
            " 0.77901055 0.78025023 0.78093292 0.78062074 0.78116957 0.78103512\n",
            " 0.78139899 0.78159775 0.77898596 0.78022097 0.78094831 0.78062713\n",
            " 0.78123969 0.78106985 0.78140283 0.78160909        nan        nan\n",
            "        nan        nan        nan        nan        nan        nan\n",
            " 0.87408913 0.87644381 0.87762355 0.87660547 0.88023234 0.87753732\n",
            " 0.88087632 0.88086863 0.87357615 0.87640948 0.87788031 0.87665899\n",
            " 0.8803744  0.87758149 0.88096084 0.88088258 0.87336854 0.87602956\n",
            " 0.87709686 0.87604991 0.88013949 0.87694473 0.88098579 0.88096644\n",
            " 0.87296799 0.87557736 0.87705004 0.87576497 0.87977858 0.87668526\n",
            " 0.8807734  0.8807666         nan        nan        nan        nan\n",
            "        nan        nan        nan        nan 0.6758611  0.67603101\n",
            " 0.67626573 0.67634587 0.67870217 0.67672852 0.68058982 0.68047444\n",
            " 0.6758611  0.67603101 0.67626573 0.67634587 0.67870217 0.67672852\n",
            " 0.68058982 0.68047444 0.6758611  0.67603101 0.67626573 0.67634587\n",
            " 0.67870217 0.67672852 0.68058982 0.68047444 0.6758611  0.67603101\n",
            " 0.67626573 0.67634587 0.67870217 0.67672852 0.68058982 0.68047444\n",
            "        nan        nan        nan        nan        nan        nan\n",
            "        nan        nan 0.88455407 0.88809843 0.8911594  0.88945355\n",
            " 0.89752379 0.89348705 0.90076421 0.90116555 0.88518556 0.88854149\n",
            " 0.89166048 0.8897949  0.89836769 0.89370157 0.9017824  0.90200134\n",
            " 0.88784451 0.89109211 0.89416558 0.89218377 0.89938188 0.89559747\n",
            " 0.90213615 0.90236085 0.88855999 0.89131069 0.89385006 0.89213693\n",
            " 0.8990378  0.89526873 0.90193553 0.90223469        nan        nan\n",
            "        nan        nan        nan        nan        nan        nan\n",
            " 0.88455407 0.88809843 0.8911594  0.88945355 0.89752379 0.89348705\n",
            " 0.90076421 0.90116555 0.88518556 0.88854149 0.89166048 0.8897949\n",
            " 0.89836769 0.89370157 0.9017824  0.90200134 0.88784451 0.89109211\n",
            " 0.89416558 0.89218377 0.89938188 0.89559747 0.90213615 0.90236085\n",
            " 0.88855999 0.89131069 0.89385006 0.89213693 0.8990378  0.89526873\n",
            " 0.90193553 0.90223469        nan        nan        nan        nan\n",
            "        nan        nan        nan        nan 0.88543436 0.88923998\n",
            " 0.89172177 0.89016865 0.89829644 0.89391322 0.90109366 0.90149856\n",
            " 0.88650761 0.88988762 0.89227925 0.89079111 0.89952449 0.89488375\n",
            " 0.90195699 0.90223368 0.88827353 0.89152665 0.8939995  0.89223857\n",
            " 0.89982136 0.89566797 0.9019962  0.90226275 0.88869556 0.89158627\n",
            " 0.89411123 0.89261751 0.89968137 0.89591051 0.90211305 0.90233223]\n",
            "  category=UserWarning,\n"
          ]
        },
        {
          "output_type": "stream",
          "name": "stdout",
          "text": [
            "{'max_depth': 100, 'min_samples_split': 4, 'n_estimators': 100}\n"
          ]
        }
      ]
    },
    {
      "cell_type": "code",
      "source": [
        "rand_forest2 = RandomForestRegressor(random_state=0, max_depth=100, min_samples_split = 4, n_estimators=100)\n",
        "rand_forest2.fit(x_train, y_train)\n",
        "y_predf = rand_forest.predict(x_test)\n",
        "\n",
        "print('MSE :', mean_squared_error(y_test,y_predf))\n",
        "print('square root of MSE :', np.sqrt(mean_squared_error(y_test,y_predf)))\n",
        "\n",
        "print('______________________________________________________________________')\n",
        "\n",
        "print('Accuracy :', r2_score(y_test,y_predf)*100) "
      ],
      "metadata": {
        "id": "1VCVz8CbqXV0",
        "colab": {
          "base_uri": "https://localhost:8080/"
        },
        "outputId": "3be665f0-99bf-4193-c95c-b401c3d413dd"
      },
      "execution_count": 59,
      "outputs": [
        {
          "output_type": "stream",
          "name": "stdout",
          "text": [
            "MSE : 43597.20063164281\n",
            "square root of MSE : 208.79942679912415\n",
            "______________________________________________________________________\n",
            "Accuracy : 86.26273639121614\n"
          ]
        }
      ]
    },
    {
      "cell_type": "code",
      "source": [
        "avg_expected_loss, avg_bias, avg_var = bias_variance_decomp(rand_forest, x_train, y_train, x_test, y_test, loss='mse', random_seed=32)\n",
        "\n",
        "print('avg loss :', avg_expected_loss)\n",
        "print('avg bias :', avg_bias)\n",
        "print('avg var :', avg_var)"
      ],
      "metadata": {
        "id": "wiZpGkYaqYL5",
        "colab": {
          "base_uri": "https://localhost:8080/"
        },
        "outputId": "10cd1219-cd61-4c0c-dc1a-7269cc42724b"
      },
      "execution_count": 60,
      "outputs": [
        {
          "output_type": "stream",
          "name": "stdout",
          "text": [
            "avg loss : 40861.50394853125\n",
            "avg bias : 34674.01715401089\n",
            "avg var : 6187.486794520352\n"
          ]
        }
      ]
    },
    {
      "cell_type": "code",
      "source": [
        "df.columns\n",
        "columns_name = ['Airline', 'Date_of_Journey', 'Source', 'Destination', 'Route',\n",
        "       'Dep_Time', 'Arrival_Time', 'Duration', 'Total_Stops',\n",
        "       'Additional_Info','month']"
      ],
      "metadata": {
        "id": "8UlnAR4GhX5n"
      },
      "execution_count": 61,
      "outputs": []
    },
    {
      "cell_type": "code",
      "source": [
        "importances = rand_forest.feature_importances_\n",
        "indices = np.argsort(importances)\n",
        "\n",
        "plt.title('Feature Importances')\n",
        "plt.barh(range(len(indices)), importances[indices], color = 'b', align='center')\n",
        "plt.yticks(range(len(indices)),[columns_name[i] for i in indices ])\n",
        "plt.xlabel('Relative Importance')\n",
        "plt.show()"
      ],
      "metadata": {
        "id": "_LVNl_IUcBLn",
        "colab": {
          "base_uri": "https://localhost:8080/",
          "height": 295
        },
        "outputId": "fa188ad4-8e26-4555-9524-2ba29c91c77f"
      },
      "execution_count": 66,
      "outputs": [
        {
          "output_type": "display_data",
          "data": {
            "text/plain": [
              "<Figure size 432x288 with 1 Axes>"
            ],
            "image/png": "[encoded data removed]"
          },
          "metadata": {
            "needs_background": "light"
          }
        }
      ]
    },
    {
      "cell_type": "markdown",
      "source": [
        "#Conclusion \n",
        "\n",
        "As we used more complex models, the accuarcy increases and mean squared error increases, but we have to make sure that there is no under or over fitting happening in our model, Best accuracy is 89 percent"
      ],
      "metadata": {
        "id": "5sUEKDOisTbv"
      }
    },
    {
      "cell_type": "code",
      "source": [
        "from sklearn.ensemble import GradientBoostingRegressor\n",
        "\n",
        "x_train, x_test, y_train, y_test = train_test_split(x,y,test_size=0.333, random_state=32)\n",
        "\n",
        "model_g = GradientBoostingRegressor(max_depth=100, n_estimators=5)\n",
        "model_g.fit(x_train, y_train)\n",
        "\n",
        "y_predg = model_g.predict(x_test)\n",
        "\n",
        "print('MSE :', mean_squared_error(y_test,y_predg))\n",
        "print('square root of MSE :', np.sqrt(mean_squared_error(y_test,y_predg)))\n",
        "\n",
        "print('______________________________________________________________________')\n",
        "\n",
        "print('Accuracy :', r2_score(y_test,y_predg)*100) "
      ],
      "metadata": {
        "id": "wODH05kEKQSn",
        "colab": {
          "base_uri": "https://localhost:8080/"
        },
        "outputId": "8bdf9f36-b61c-4642-8603-38203868fe51"
      },
      "execution_count": 63,
      "outputs": [
        {
          "output_type": "stream",
          "name": "stdout",
          "text": [
            "MSE : 132156.58415385935\n",
            "square root of MSE : 363.5334704726091\n",
            "______________________________________________________________________\n",
            "Accuracy : 58.35810997368653\n"
          ]
        }
      ]
    },
    {
      "cell_type": "code",
      "source": [
        "avg_expected_loss, avg_bias, avg_var = bias_variance_decomp(model_g, x_train, y_train, x_test, y_test, loss='mse', random_seed=32)\n",
        "\n",
        "print('avg loss :', avg_expected_loss)\n",
        "print('avg bias :', avg_bias)\n",
        "print('avg var :', avg_var)"
      ],
      "metadata": {
        "id": "DpKa-3LWK22w",
        "colab": {
          "base_uri": "https://localhost:8080/"
        },
        "outputId": "4a83c760-0a9e-4baa-bf79-a0224ebd81c2"
      },
      "execution_count": 64,
      "outputs": [
        {
          "output_type": "stream",
          "name": "stdout",
          "text": [
            "avg loss : 137269.58139802274\n",
            "avg bias : 132580.6566439341\n",
            "avg var : 4688.924754088633\n"
          ]
        }
      ]
    },
    {
      "cell_type": "code",
      "source": [],
      "metadata": {
        "id": "MSNtSKAqK6IQ"
      },
      "execution_count": 64,
      "outputs": []
    }
  ],
  "metadata": {
    "colab": {
      "collapsed_sections": [],
      "name": "Plane ticket ",
      "provenance": []
    },
    "kernelspec": {
      "display_name": "Python 3",
      "name": "python3"
    },
    "language_info": {
      "name": "python"
    }
  },
  "nbformat": 4,
  "nbformat_minor": 0
}